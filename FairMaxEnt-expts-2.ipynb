{
 "cells": [
  {
   "cell_type": "markdown",
   "metadata": {},
   "source": [
    "### This notebook contains simulations for constructing and evaluating the max-entropy distributions for large version of Compas dataset\n",
    "\n",
    "The code is based on the following paper:\n",
    "\n",
    "**Data preprocessing to mitigate bias: A maximum-entropy based approach** <br>\n",
    "L.Elisa Celis, Vijay Keswani, Nisheeth K. Vishnoi <br>\n",
    "ICML 2020"
   ]
  },
  {
   "cell_type": "code",
   "execution_count": 1,
   "metadata": {},
   "outputs": [],
   "source": [
    "%load_ext autoreload\n",
    "%autoreload 2\n",
    "\n",
    "#This project requires the IBM AIF360 package for the datasets (https://github.com/ibm/aif360)\n",
    "\n",
    "import numpy as np\n",
    "from FairMaxEnt.domain import Domain\n",
    "from FairMaxEnt.memory import MemoryTrie\n",
    "from FairMaxEnt.maximum_entropy_distribution import MaxEnt\n",
    "from FairMaxEnt.fair_maximum_entropy import FairMaximumEntropy\n",
    "from FairMaxEnt.fair_maximum_entropy import reweightSamples\n",
    "from Codes.Utils import *\n",
    "\n",
    "from tqdm import tqdm_notebook as tqdm\n"
   ]
  },
  {
   "cell_type": "markdown",
   "metadata": {},
   "source": [
    "#### Loading the Compas dataset"
   ]
  },
  {
   "cell_type": "code",
   "execution_count": 5,
   "metadata": {},
   "outputs": [
    {
     "name": "stderr",
     "output_type": "stream",
     "text": [
      "WARNING:root:Missing Data: 5 rows removed from CompasDataset.\n"
     ]
    },
    {
     "name": "stdout",
     "output_type": "stream",
     "text": [
      "8723\n",
      "['Other', 'Asian', 'Hispanic', 'Caucasian', 'Native American', 'African-American']\n"
     ]
    },
    {
     "data": {
      "text/plain": [
       "(Domain in 19 with 19, 8723)"
      ]
     },
     "execution_count": 5,
     "metadata": {},
     "output_type": "execute_result"
    }
   ],
   "source": [
    "simpleDomain, simpleSamples = getLargeCompasDataset()\n",
    "simpleDomain, len(simpleSamples)"
   ]
  },
  {
   "cell_type": "code",
   "execution_count": 6,
   "metadata": {},
   "outputs": [
    {
     "data": {
      "text/plain": [
       "['sex',\n",
       " 'age',\n",
       " 'race',\n",
       " 'juv_fel_count',\n",
       " 'decile_score',\n",
       " 'juv_misd_count',\n",
       " 'juv_other_count',\n",
       " 'priors_count',\n",
       " 'days_in_jail',\n",
       " 'c_charge_degree',\n",
       " 'is_violent',\n",
       " 'is_drug',\n",
       " 'is_firearm',\n",
       " 'is_MinorInvolved',\n",
       " 'is_roadSafetyHazard',\n",
       " 'is_sexoffense',\n",
       " 'is_fraud',\n",
       " 'is_petty',\n",
       " 'is_recid']"
      ]
     },
     "execution_count": 6,
     "metadata": {},
     "output_type": "execute_result"
    }
   ],
   "source": [
    "simpleDomain.labels"
   ]
  },
  {
   "cell_type": "markdown",
   "metadata": {},
   "source": [
    "#### Example runs of max-entropy optimization program"
   ]
  },
  {
   "cell_type": "code",
   "execution_count": 7,
   "metadata": {},
   "outputs": [],
   "source": [
    "# The setup is done and now we can run the experiments\n",
    "# C - smoothing parameter\n",
    "# delta - error parameter\n",
    "\n",
    "C = 0.1\n",
    "delta = 0\n",
    "\n",
    "sens_attr = 2   # for Compas\n",
    "# sens_attr = 1  # for Adult\n",
    "\n",
    "# labelIndex denotes the index of class label\n",
    "labelIndex = len(simpleSamples[0]) - 1"
   ]
  },
  {
   "cell_type": "markdown",
   "metadata": {},
   "source": [
    "The fairness metrics, evaluated over the original raw dataset, have the following values"
   ]
  },
  {
   "cell_type": "code",
   "execution_count": 63,
   "metadata": {},
   "outputs": [],
   "source": [
    "def getDisparateImpact(dat, sens_attr):\n",
    "    labelIndex = len(dat[0])-1\n",
    "    dataset = []\n",
    "    for row in dat:\n",
    "        if row[sens_attr] == -1:\n",
    "            continue\n",
    "        dataset.append(row)\n",
    "    \n",
    "    dataset = np.array(dataset)\n",
    "    y1z1 = sum(dataset[:,-1] * dataset[:,sens_attr])\n",
    "    y1z0 = sum(dataset[:,-1] * (1-dataset[:,sens_attr]))\n",
    "    z1 = sum(dataset[:,sens_attr])\n",
    "    z0 = len(dataset) - z1\n",
    "    print (y1z0, y1z1)\n",
    "    print (z1/z0)\n",
    "    return min((y1z0/z0)/(y1z1/z1), (y1z1/z1)/(y1z0/z0)) \n"
   ]
  },
  {
   "cell_type": "code",
   "execution_count": 9,
   "metadata": {},
   "outputs": [
    {
     "name": "stdout",
     "output_type": "stream",
     "text": [
      "Statistical Rate:  0.7660012166325124\n",
      "Representation rate:  0.556566738044254\n"
     ]
    }
   ],
   "source": [
    "print(\"Statistical Rate: \", getDisparateImpact(simpleSamples, sens_attr))\n",
    "print(\"Representation rate: \", getGenderRatio(simpleSamples, sens_attr))"
   ]
  },
  {
   "cell_type": "markdown",
   "metadata": {},
   "source": [
    "Since we also need to calculate utility from empirical distribution of original dataset, we first find the way of calculating the utility"
   ]
  },
  {
   "cell_type": "code",
   "execution_count": 11,
   "metadata": {},
   "outputs": [
    {
     "data": {
      "text/plain": [
       "0.0"
      ]
     },
     "execution_count": 11,
     "metadata": {},
     "output_type": "execute_result"
    }
   ],
   "source": [
    "# The utility evaluation procedure for large COMPAS dataset is different from the one for small dataset.\n",
    "\n",
    "rawCorr = getCorr(simpleSamples)\n",
    "getCorrUtility(simpleSamples, rawCorr)"
   ]
  },
  {
   "cell_type": "markdown",
   "metadata": {},
   "source": [
    "#### We first look at max-entropy distribution using dataset mean and prior\n",
    "The prior in this case is $q_C^d$ and the expected value is mean of original dataset, $\\theta^d$"
   ]
  },
  {
   "cell_type": "code",
   "execution_count": 10,
   "metadata": {},
   "outputs": [
    {
     "name": "stderr",
     "output_type": "stream",
     "text": [
      "/usr/local/lib/python3.7/site-packages/theano/tensor/basic.py:6105: UserWarning: Warning, Cannot compute test value: input 1 (lambda) of Op dot(<TensorType(float64, matrix)>, lambda) missing default value\n",
      "  return _dot(a, b)\n",
      "/Users/vijaykeswani/FairMaxEnt/FairMaxEnt Code/FairMaxEnt/counting_oracle.py:48: UserWarning: Warning, Cannot compute test value: input 0 (dot.0) of Op Elemwise{exp,no_inplace}(dot.0) missing default value\n",
      "  return Prior*T.exp(T.dot(Support, Lambda))\n",
      "/usr/local/lib/python3.7/site-packages/theano/tensor/var.py:155: UserWarning: Warning, Cannot compute test value: input 1 (Elemwise{exp,no_inplace}.0) of Op Elemwise{mul,no_inplace}(<TensorType(float64, vector)>, Elemwise{exp,no_inplace}.0) missing default value\n",
      "  return theano.tensor.mul(self, other)\n",
      "/usr/local/lib/python3.7/site-packages/theano/tensor/basic.py:3210: UserWarning: Warning, Cannot compute test value: input 0 (Elemwise{mul,no_inplace}.0) of Op Sum{acc_dtype=float64}(Elemwise{mul,no_inplace}.0) missing default value\n",
      "  out = elemwise.Sum(axis=axis, dtype=dtype, acc_dtype=acc_dtype)(input)\n",
      "/usr/local/lib/python3.7/site-packages/theano/tensor/var.py:356: UserWarning: Warning, Cannot compute test value: input 0 (lambda) of Op InplaceDimShuffle{0}(lambda) missing default value\n",
      "  return op(self)\n",
      "/usr/local/lib/python3.7/site-packages/theano/tensor/var.py:275: UserWarning: Warning, Cannot compute test value: input 0 (InplaceDimShuffle{0}.0) of Op Shape(InplaceDimShuffle{0}.0) missing default value\n",
      "  shape = property(lambda self: theano.tensor.basic.shape(self))\n",
      "/usr/local/lib/python3.7/site-packages/theano/tensor/var.py:611: UserWarning: Warning, Cannot compute test value: input 0 (Shape.0) of Op Subtensor{int64:int64:}(Shape.0, Constant{1}, Constant{1}) missing default value\n",
      "  lambda entry: isinstance(entry, Variable)))\n",
      "/usr/local/lib/python3.7/site-packages/theano/tensor/basic.py:4502: UserWarning: Warning, Cannot compute test value: input 2 (Subtensor{int64:int64:}.0) of Op Join(TensorConstant{0}, Subtensor{int64:int64:}.0, Subtensor{int64:int64:}.0) missing default value\n",
      "  return join_(axis, *tensors_list)\n",
      "/usr/local/lib/python3.7/site-packages/theano/tensor/var.py:275: UserWarning: Warning, Cannot compute test value: input 0 (InplaceDimShuffle{0}.0) of Op Shape(InplaceDimShuffle{0}.0) missing default value\n",
      "  shape = property(lambda self: theano.tensor.basic.shape(self))\n",
      "/usr/local/lib/python3.7/site-packages/theano/tensor/var.py:611: UserWarning: Warning, Cannot compute test value: input 0 (Shape.0) of Op Subtensor{int64}(Shape.0, Constant{0}) missing default value\n",
      "  lambda entry: isinstance(entry, Variable)))\n",
      "/usr/local/lib/python3.7/site-packages/theano/tensor/var.py:233: UserWarning: Warning, Cannot compute test value: input 1 (Subtensor{int64}.0) of Op Elemwise{mul,no_inplace}(TensorConstant{1}, Subtensor{int64}.0) missing default value\n",
      "  return theano.tensor.basic.mul(other, self)\n",
      "/usr/local/lib/python3.7/site-packages/theano/tensor/basic.py:4727: UserWarning: Warning, Cannot compute test value: input 0 (Elemwise{mul,no_inplace}.0) of Op MakeVector{dtype='int64'}(Elemwise{mul,no_inplace}.0, Elemwise{Cast{int64}}.0) missing default value\n",
      "  return theano.tensor.opt.MakeVector(dtype)(*tensors)\n",
      "/usr/local/lib/python3.7/site-packages/theano/tensor/var.py:611: UserWarning: Warning, Cannot compute test value: input 0 (MakeVector{dtype='int64'}.0) of Op Subtensor{int64}(MakeVector{dtype='int64'}.0, Constant{0}) missing default value\n",
      "  lambda entry: isinstance(entry, Variable)))\n",
      "/usr/local/lib/python3.7/site-packages/theano/tensor/var.py:611: UserWarning: Warning, Cannot compute test value: input 0 (MakeVector{dtype='int64'}.0) of Op Subtensor{int64}(MakeVector{dtype='int64'}.0, Constant{1}) missing default value\n",
      "  lambda entry: isinstance(entry, Variable)))\n",
      "/usr/local/lib/python3.7/site-packages/theano/tensor/basic.py:5066: UserWarning: Warning, Cannot compute test value: input 0 (InplaceDimShuffle{0}.0) of Op Reshape{2}(InplaceDimShuffle{0}.0, MakeVector{dtype='int64'}.0) missing default value\n",
      "  rval = op(x, newshape)\n",
      "/usr/local/lib/python3.7/site-packages/theano/tensor/basic.py:5066: UserWarning: Warning, Cannot compute test value: input 1 (MakeVector{dtype='int64'}.0) of Op Reshape{2}(InplaceDimShuffle{0}.0, MakeVector{dtype='int64'}.0) missing default value\n",
      "  rval = op(x, newshape)\n",
      "/usr/local/lib/python3.7/site-packages/theano/tensor/basic.py:6105: UserWarning: Warning, Cannot compute test value: input 1 (Reshape{2}.0) of Op dot(Reshape{2}.0, Reshape{2}.0) missing default value\n",
      "  return _dot(a, b)\n",
      "/usr/local/lib/python3.7/site-packages/theano/tensor/var.py:611: UserWarning: Warning, Cannot compute test value: input 0 (Join.0) of Op Subtensor{int64}(Join.0, Constant{0}) missing default value\n",
      "  lambda entry: isinstance(entry, Variable)))\n",
      "/usr/local/lib/python3.7/site-packages/theano/tensor/var.py:611: UserWarning: Warning, Cannot compute test value: input 0 (Join.0) of Op Subtensor{int64}(Join.0, Constant{1}) missing default value\n",
      "  lambda entry: isinstance(entry, Variable)))\n",
      "/usr/local/lib/python3.7/site-packages/theano/tensor/basic.py:5066: UserWarning: Warning, Cannot compute test value: input 0 (dot.0) of Op Reshape{2}(dot.0, Join.0) missing default value\n",
      "  rval = op(x, newshape)\n",
      "/usr/local/lib/python3.7/site-packages/theano/tensor/basic.py:5066: UserWarning: Warning, Cannot compute test value: input 1 (Join.0) of Op Reshape{2}(dot.0, Join.0) missing default value\n",
      "  rval = op(x, newshape)\n",
      "/usr/local/lib/python3.7/site-packages/theano/tensor/basic.py:4154: UserWarning: Warning, Cannot compute test value: input 0 (Reshape{2}.0) of Op Rebroadcast{0,0}(Reshape{2}.0) missing default value\n",
      "  for i in xrange(len(broadcastable))])(x)\n",
      "/Users/vijaykeswani/FairMaxEnt/FairMaxEnt Code/FairMaxEnt/counting_oracle.py:47: UserWarning: Warning, Cannot compute test value: input 0 (Reshape{2}.0) of Op Elemwise{exp,no_inplace}(Reshape{2}.0) missing default value\n",
      "  return T.exp(T.dot(Support, Lambda))\n",
      "/usr/local/lib/python3.7/site-packages/theano/tensor/var.py:155: UserWarning: Warning, Cannot compute test value: input 0 (Elemwise{exp,no_inplace}.0) of Op Elemwise{mul,no_inplace}(Elemwise{exp,no_inplace}.0, <TensorType(float64, matrix)>) missing default value\n",
      "  return theano.tensor.mul(self, other)\n",
      "/usr/local/lib/python3.7/site-packages/theano/tensor/basic.py:3210: UserWarning: Warning, Cannot compute test value: input 0 (Elemwise{mul,no_inplace}.0) of Op Sum{axis=[1], acc_dtype=float64}(Elemwise{mul,no_inplace}.0) missing default value\n",
      "  out = elemwise.Sum(axis=axis, dtype=dtype, acc_dtype=acc_dtype)(input)\n",
      "/Users/vijaykeswani/FairMaxEnt/FairMaxEnt Code/FairMaxEnt/counting_oracle.py:76: UserWarning: Warning, Cannot compute test value: input 0 (Sum{axis=[1], acc_dtype=float64}.0) of Op Elemwise{log,no_inplace}(Sum{axis=[1], acc_dtype=float64}.0) missing default value\n",
      "  return T.log(T.sum(Qijs, axis=1))\n",
      "/usr/local/lib/python3.7/site-packages/theano/tensor/basic.py:3210: UserWarning: Warning, Cannot compute test value: input 0 (Elemwise{log,no_inplace}.0) of Op Sum{acc_dtype=float64}(Elemwise{log,no_inplace}.0) missing default value\n",
      "  out = elemwise.Sum(axis=axis, dtype=dtype, acc_dtype=acc_dtype)(input)\n",
      "/Users/vijaykeswani/FairMaxEnt/FairMaxEnt Code/FairMaxEnt/counting_oracle.py:88: UserWarning: Warning, Cannot compute test value: input 0 (Sum{acc_dtype=float64}.0) of Op Elemwise{exp,no_inplace}(Sum{acc_dtype=float64}.0) missing default value\n",
      "  return T.exp(LogQ)\n",
      "/usr/local/lib/python3.7/site-packages/theano/tensor/var.py:197: UserWarning: Warning, Cannot compute test value: input 0 (Sum{acc_dtype=float64}.0) of Op Elemwise{true_div,no_inplace}(Sum{acc_dtype=float64}.0, Sum{acc_dtype=float64}.0) missing default value\n",
      "  return theano.tensor.basic.true_div(self, other)\n",
      "/usr/local/lib/python3.7/site-packages/theano/tensor/var.py:197: UserWarning: Warning, Cannot compute test value: input 0 (Elemwise{exp,no_inplace}.0) of Op Elemwise{true_div,no_inplace}(Elemwise{exp,no_inplace}.0, <TensorType(int64, scalar)>) missing default value\n",
      "  return theano.tensor.basic.true_div(self, other)\n",
      "/usr/local/lib/python3.7/site-packages/theano/tensor/var.py:155: UserWarning: Warning, Cannot compute test value: input 1 (Elemwise{true_div,no_inplace}.0) of Op Elemwise{mul,no_inplace}(Elemwise{sub,no_inplace}.0, Elemwise{true_div,no_inplace}.0) missing default value\n",
      "  return theano.tensor.mul(self, other)\n",
      "/usr/local/lib/python3.7/site-packages/theano/tensor/var.py:155: UserWarning: Warning, Cannot compute test value: input 1 (Elemwise{true_div,no_inplace}.0) of Op Elemwise{mul,no_inplace}(<TensorType(float64, scalar)>, Elemwise{true_div,no_inplace}.0) missing default value\n",
      "  return theano.tensor.mul(self, other)\n",
      "/usr/local/lib/python3.7/site-packages/theano/tensor/var.py:128: UserWarning: Warning, Cannot compute test value: input 0 (Elemwise{mul,no_inplace}.0) of Op Elemwise{add,no_inplace}(Elemwise{mul,no_inplace}.0, Elemwise{mul,no_inplace}.0) missing default value\n",
      "  return theano.tensor.basic.add(self, other)\n",
      "/usr/local/lib/python3.7/site-packages/theano/tensor/var.py:128: UserWarning: Warning, Cannot compute test value: input 1 (Elemwise{mul,no_inplace}.0) of Op Elemwise{add,no_inplace}(Elemwise{mul,no_inplace}.0, Elemwise{mul,no_inplace}.0) missing default value\n",
      "  return theano.tensor.basic.add(self, other)\n",
      "/Users/vijaykeswani/FairMaxEnt/FairMaxEnt Code/FairMaxEnt/counting_oracle.py:112: UserWarning: Warning, Cannot compute test value: input 0 (Elemwise{add,no_inplace}.0) of Op Elemwise{log,no_inplace}(Elemwise{add,no_inplace}.0) missing default value\n",
      "  LogSum = T.log(Sum)\n",
      "/usr/local/lib/python3.7/site-packages/theano/tensor/basic.py:6105: UserWarning: Warning, Cannot compute test value: input 0 (lambda) of Op dot(lambda, <TensorType(float64, vector)>) missing default value\n",
      "  return _dot(a, b)\n",
      "/usr/local/lib/python3.7/site-packages/theano/tensor/var.py:147: UserWarning: Warning, Cannot compute test value: input 0 (Elemwise{log,no_inplace}.0) of Op Elemwise{sub,no_inplace}(Elemwise{log,no_inplace}.0, dot.0) missing default value\n",
      "  return theano.tensor.basic.sub(self, other)\n",
      "/usr/local/lib/python3.7/site-packages/theano/tensor/var.py:147: UserWarning: Warning, Cannot compute test value: input 1 (dot.0) of Op Elemwise{sub,no_inplace}(Elemwise{log,no_inplace}.0, dot.0) missing default value\n",
      "  return theano.tensor.basic.sub(self, other)\n",
      "/usr/local/lib/python3.7/site-packages/theano/tensor/basic.py:6105: UserWarning: Warning, Cannot compute test value: input 0 (lambda) of Op dot(lambda, lambda) missing default value\n",
      "  return _dot(a, b)\n",
      "/usr/local/lib/python3.7/site-packages/theano/tensor/basic.py:6105: UserWarning: Warning, Cannot compute test value: input 1 (lambda) of Op dot(lambda, lambda) missing default value\n",
      "  return _dot(a, b)\n",
      "/usr/local/lib/python3.7/site-packages/theano/tensor/var.py:155: UserWarning: Warning, Cannot compute test value: input 1 (dot.0) of Op Elemwise{mul,no_inplace}(<TensorType(float64, scalar)>, dot.0) missing default value\n",
      "  return theano.tensor.mul(self, other)\n",
      "/usr/local/lib/python3.7/site-packages/theano/tensor/var.py:128: UserWarning: Warning, Cannot compute test value: input 0 (Elemwise{sub,no_inplace}.0) of Op Elemwise{add,no_inplace}(Elemwise{sub,no_inplace}.0, Elemwise{mul,no_inplace}.0) missing default value\n",
      "  return theano.tensor.basic.add(self, other)\n",
      "/usr/local/lib/python3.7/site-packages/theano/tensor/var.py:128: UserWarning: Warning, Cannot compute test value: input 1 (Elemwise{mul,no_inplace}.0) of Op Elemwise{add,no_inplace}(Elemwise{sub,no_inplace}.0, Elemwise{mul,no_inplace}.0) missing default value\n",
      "  return theano.tensor.basic.add(self, other)\n",
      "/usr/local/lib/python3.7/site-packages/theano/tensor/basic.py:2522: UserWarning: Warning, Cannot compute test value: input 0 (Elemwise{add,no_inplace}.0) of Op Elemwise{second,no_inplace}(Elemwise{add,no_inplace}.0, TensorConstant{1.0}) missing default value\n",
      "  return fill(model, ret)\n",
      "/usr/local/lib/python3.7/site-packages/theano/tensor/var.py:275: UserWarning: Warning, Cannot compute test value: input 0 (Elemwise{add,no_inplace}.0) of Op Shape(Elemwise{add,no_inplace}.0) missing default value\n",
      "  shape = property(lambda self: theano.tensor.basic.shape(self))\n",
      "/usr/local/lib/python3.7/site-packages/theano/gof/op.py:1109: UserWarning: Argument 0 has no test value\n",
      "  \" has no test value\")\n",
      "/usr/local/lib/python3.7/site-packages/theano/tensor/var.py:275: UserWarning: Warning, Cannot compute test value: input 0 (Elemwise{second,no_inplace}.0) of Op Shape(Elemwise{second,no_inplace}.0) missing default value\n",
      "  shape = property(lambda self: theano.tensor.basic.shape(self))\n",
      "/usr/local/lib/python3.7/site-packages/theano/tensor/var.py:275: UserWarning: Warning, Cannot compute test value: input 0 (Elemwise{sub,no_inplace}.0) of Op Shape(Elemwise{sub,no_inplace}.0) missing default value\n",
      "  shape = property(lambda self: theano.tensor.basic.shape(self))\n",
      "/usr/local/lib/python3.7/site-packages/theano/tensor/elemwise.py:635: UserWarning: Warning, Cannot compute test value: input 0 (Elemwise{second,no_inplace}.0) of Op Elemwise{neg}(Elemwise{second,no_inplace}.0) missing default value\n",
      "  *[transform(ipt) for ipt in node.inputs])\n",
      "/usr/local/lib/python3.7/site-packages/theano/tensor/var.py:275: UserWarning: Warning, Cannot compute test value: input 0 (Elemwise{neg}.0) of Op Shape(Elemwise{neg}.0) missing default value\n",
      "  shape = property(lambda self: theano.tensor.basic.shape(self))\n",
      "/usr/local/lib/python3.7/site-packages/theano/tensor/var.py:275: UserWarning: Warning, Cannot compute test value: input 0 (Elemwise{log,no_inplace}.0) of Op Shape(Elemwise{log,no_inplace}.0) missing default value\n",
      "  shape = property(lambda self: theano.tensor.basic.shape(self))\n",
      "/usr/local/lib/python3.7/site-packages/theano/tensor/elemwise.py:635: UserWarning: Warning, Cannot compute test value: input 0 (Elemwise{second,no_inplace}.0) of Op Elemwise{true_div}(Elemwise{second,no_inplace}.0, Elemwise{add,no_inplace}.0) missing default value\n",
      "  *[transform(ipt) for ipt in node.inputs])\n",
      "/usr/local/lib/python3.7/site-packages/theano/tensor/elemwise.py:635: UserWarning: Warning, Cannot compute test value: input 1 (Elemwise{add,no_inplace}.0) of Op Elemwise{true_div}(Elemwise{second,no_inplace}.0, Elemwise{add,no_inplace}.0) missing default value\n",
      "  *[transform(ipt) for ipt in node.inputs])\n",
      "/usr/local/lib/python3.7/site-packages/theano/tensor/var.py:275: UserWarning: Warning, Cannot compute test value: input 0 (Elemwise{true_div}.0) of Op Shape(Elemwise{true_div}.0) missing default value\n",
      "  shape = property(lambda self: theano.tensor.basic.shape(self))\n",
      "/usr/local/lib/python3.7/site-packages/theano/tensor/var.py:275: UserWarning: Warning, Cannot compute test value: input 0 (Elemwise{mul,no_inplace}.0) of Op Shape(Elemwise{mul,no_inplace}.0) missing default value\n",
      "  shape = property(lambda self: theano.tensor.basic.shape(self))\n",
      "/usr/local/lib/python3.7/site-packages/theano/tensor/elemwise.py:635: UserWarning: Warning, Cannot compute test value: input 0 (Elemwise{true_div}.0) of Op Elemwise{mul}(Elemwise{true_div}.0, Elemwise{true_div,no_inplace}.0) missing default value\n",
      "  *[transform(ipt) for ipt in node.inputs])\n",
      "/usr/local/lib/python3.7/site-packages/theano/tensor/elemwise.py:635: UserWarning: Warning, Cannot compute test value: input 1 (Elemwise{true_div,no_inplace}.0) of Op Elemwise{mul}(Elemwise{true_div}.0, Elemwise{true_div,no_inplace}.0) missing default value\n",
      "  *[transform(ipt) for ipt in node.inputs])\n",
      "/usr/local/lib/python3.7/site-packages/theano/tensor/elemwise.py:635: UserWarning: Warning, Cannot compute test value: input 0 (Elemwise{true_div}.0) of Op Elemwise{mul}(Elemwise{true_div}.0, Elemwise{sub,no_inplace}.0) missing default value\n",
      "  *[transform(ipt) for ipt in node.inputs])\n",
      "/usr/local/lib/python3.7/site-packages/theano/tensor/var.py:275: UserWarning: Warning, Cannot compute test value: input 0 (Elemwise{mul}.0) of Op Shape(Elemwise{mul}.0) missing default value\n",
      "  shape = property(lambda self: theano.tensor.basic.shape(self))\n",
      "/usr/local/lib/python3.7/site-packages/theano/gof/op.py:1109: UserWarning: Argument 1 has no test value\n",
      "  \" has no test value\")\n",
      "/usr/local/lib/python3.7/site-packages/theano/tensor/var.py:275: UserWarning: Warning, Cannot compute test value: input 0 (Elemwise{true_div,no_inplace}.0) of Op Shape(Elemwise{true_div,no_inplace}.0) missing default value\n",
      "  shape = property(lambda self: theano.tensor.basic.shape(self))\n",
      "/usr/local/lib/python3.7/site-packages/theano/tensor/elemwise.py:635: UserWarning: Warning, Cannot compute test value: input 0 (Elemwise{mul}.0) of Op Elemwise{true_div}(Elemwise{mul}.0, Sum{acc_dtype=float64}.0) missing default value\n",
      "  *[transform(ipt) for ipt in node.inputs])\n",
      "/usr/local/lib/python3.7/site-packages/theano/tensor/elemwise.py:635: UserWarning: Warning, Cannot compute test value: input 0 (Elemwise{mul}.0) of Op Elemwise{mul}(Elemwise{mul}.0, Sum{acc_dtype=float64}.0) missing default value\n",
      "  *[transform(ipt) for ipt in node.inputs])\n",
      "/usr/local/lib/python3.7/site-packages/theano/tensor/elemwise.py:635: UserWarning: Warning, Cannot compute test value: input 1 (Sum{acc_dtype=float64}.0) of Op Elemwise{mul}(Elemwise{mul}.0, Sum{acc_dtype=float64}.0) missing default value\n",
      "  *[transform(ipt) for ipt in node.inputs])\n",
      "/usr/local/lib/python3.7/site-packages/theano/tensor/elemwise.py:635: UserWarning: Warning, Cannot compute test value: input 0 (Elemwise{mul}.0) of Op Elemwise{neg}(Elemwise{mul}.0) missing default value\n",
      "  *[transform(ipt) for ipt in node.inputs])\n"
     ]
    },
    {
     "name": "stderr",
     "output_type": "stream",
     "text": [
      "/usr/local/lib/python3.7/site-packages/theano/tensor/elemwise.py:635: UserWarning: Warning, Cannot compute test value: input 0 (Elemwise{neg}.0) of Op Elemwise{true_div}(Elemwise{neg}.0, Elemwise{mul}.0) missing default value\n",
      "  *[transform(ipt) for ipt in node.inputs])\n",
      "/usr/local/lib/python3.7/site-packages/theano/tensor/var.py:275: UserWarning: Warning, Cannot compute test value: input 0 (Elemwise{true_div}.0) of Op Shape(Elemwise{true_div}.0) missing default value\n",
      "  shape = property(lambda self: theano.tensor.basic.shape(self))\n",
      "/usr/local/lib/python3.7/site-packages/theano/gof/op.py:1109: UserWarning: Argument 0 has no test value\n",
      "  \" has no test value\")\n",
      "/usr/local/lib/python3.7/site-packages/theano/gof/op.py:1109: UserWarning: Argument 1 has no test value\n",
      "  \" has no test value\")\n",
      "/usr/local/lib/python3.7/site-packages/theano/tensor/var.py:275: UserWarning: Warning, Cannot compute test value: input 0 (Sum{acc_dtype=float64}.0) of Op Shape(Sum{acc_dtype=float64}.0) missing default value\n",
      "  shape = property(lambda self: theano.tensor.basic.shape(self))\n",
      "/usr/local/lib/python3.7/site-packages/theano/tensor/elemwise.py:1894: UserWarning: Warning, Cannot compute test value: input 0 (Elemwise{true_div}.0) of Op InplaceDimShuffle{x}(Elemwise{true_div}.0) missing default value\n",
      "  gx = Elemwise(scalar.second)(x, ds_op(gz))\n",
      "/usr/local/lib/python3.7/site-packages/theano/tensor/elemwise.py:1894: UserWarning: Warning, Cannot compute test value: input 0 (Elemwise{mul,no_inplace}.0) of Op Elemwise{second}(Elemwise{mul,no_inplace}.0, InplaceDimShuffle{x}.0) missing default value\n",
      "  gx = Elemwise(scalar.second)(x, ds_op(gz))\n",
      "/usr/local/lib/python3.7/site-packages/theano/tensor/elemwise.py:1894: UserWarning: Warning, Cannot compute test value: input 1 (InplaceDimShuffle{x}.0) of Op Elemwise{second}(Elemwise{mul,no_inplace}.0, InplaceDimShuffle{x}.0) missing default value\n",
      "  gx = Elemwise(scalar.second)(x, ds_op(gz))\n",
      "/usr/local/lib/python3.7/site-packages/theano/tensor/var.py:275: UserWarning: Warning, Cannot compute test value: input 0 (Elemwise{second}.0) of Op Shape(Elemwise{second}.0) missing default value\n",
      "  shape = property(lambda self: theano.tensor.basic.shape(self))\n",
      "/usr/local/lib/python3.7/site-packages/theano/tensor/var.py:275: UserWarning: Warning, Cannot compute test value: input 0 (Elemwise{mul,no_inplace}.0) of Op Shape(Elemwise{mul,no_inplace}.0) missing default value\n",
      "  shape = property(lambda self: theano.tensor.basic.shape(self))\n",
      "/usr/local/lib/python3.7/site-packages/theano/tensor/elemwise.py:635: UserWarning: Warning, Cannot compute test value: input 0 (Elemwise{second}.0) of Op Elemwise{mul}(Elemwise{second}.0, Elemwise{exp,no_inplace}.0) missing default value\n",
      "  *[transform(ipt) for ipt in node.inputs])\n",
      "/usr/local/lib/python3.7/site-packages/theano/tensor/elemwise.py:635: UserWarning: Warning, Cannot compute test value: input 1 (Elemwise{exp,no_inplace}.0) of Op Elemwise{mul}(Elemwise{second}.0, Elemwise{exp,no_inplace}.0) missing default value\n",
      "  *[transform(ipt) for ipt in node.inputs])\n",
      "/usr/local/lib/python3.7/site-packages/theano/tensor/elemwise.py:635: UserWarning: Warning, Cannot compute test value: input 0 (Elemwise{second}.0) of Op Elemwise{mul}(Elemwise{second}.0, <TensorType(float64, vector)>) missing default value\n",
      "  *[transform(ipt) for ipt in node.inputs])\n",
      "/usr/local/lib/python3.7/site-packages/theano/tensor/var.py:275: UserWarning: Warning, Cannot compute test value: input 0 (Elemwise{mul}.0) of Op Shape(Elemwise{mul}.0) missing default value\n",
      "  shape = property(lambda self: theano.tensor.basic.shape(self))\n",
      "/usr/local/lib/python3.7/site-packages/theano/tensor/var.py:275: UserWarning: Warning, Cannot compute test value: input 0 (Elemwise{exp,no_inplace}.0) of Op Shape(Elemwise{exp,no_inplace}.0) missing default value\n",
      "  shape = property(lambda self: theano.tensor.basic.shape(self))\n",
      "/usr/local/lib/python3.7/site-packages/theano/tensor/elemwise.py:635: UserWarning: Warning, Cannot compute test value: input 0 (dot.0) of Op Elemwise{exp}(dot.0) missing default value\n",
      "  *[transform(ipt) for ipt in node.inputs])\n",
      "/usr/local/lib/python3.7/site-packages/theano/tensor/elemwise.py:635: UserWarning: Warning, Cannot compute test value: input 0 (Elemwise{mul}.0) of Op Elemwise{mul}(Elemwise{mul}.0, Elemwise{exp}.0) missing default value\n",
      "  *[transform(ipt) for ipt in node.inputs])\n",
      "/usr/local/lib/python3.7/site-packages/theano/tensor/elemwise.py:635: UserWarning: Warning, Cannot compute test value: input 1 (Elemwise{exp}.0) of Op Elemwise{mul}(Elemwise{mul}.0, Elemwise{exp}.0) missing default value\n",
      "  *[transform(ipt) for ipt in node.inputs])\n",
      "/usr/local/lib/python3.7/site-packages/theano/tensor/var.py:275: UserWarning: Warning, Cannot compute test value: input 0 (dot.0) of Op Shape(dot.0) missing default value\n",
      "  shape = property(lambda self: theano.tensor.basic.shape(self))\n",
      "/usr/local/lib/python3.7/site-packages/theano/tensor/basic.py:3710: UserWarning: Warning, Cannot compute test value: input 0 (lambda) of Op InplaceDimShuffle{0}(lambda) missing default value\n",
      "  ret = DimShuffle(x.broadcastable, axes)(x)\n",
      "/usr/local/lib/python3.7/site-packages/theano/tensor/var.py:356: UserWarning: Warning, Cannot compute test value: input 0 (Elemwise{mul}.0) of Op InplaceDimShuffle{0,x}(Elemwise{mul}.0) missing default value\n",
      "  return op(self)\n",
      "/usr/local/lib/python3.7/site-packages/theano/tensor/var.py:356: UserWarning: Warning, Cannot compute test value: input 0 (lambda.T) of Op InplaceDimShuffle{x,0}(lambda.T) missing default value\n",
      "  return op(self)\n",
      "/usr/local/lib/python3.7/site-packages/theano/tensor/basic.py:6105: UserWarning: Warning, Cannot compute test value: input 0 (InplaceDimShuffle{0,x}.0) of Op dot(InplaceDimShuffle{0,x}.0, InplaceDimShuffle{x,0}.0) missing default value\n",
      "  return _dot(a, b)\n",
      "/usr/local/lib/python3.7/site-packages/theano/tensor/basic.py:6105: UserWarning: Warning, Cannot compute test value: input 1 (InplaceDimShuffle{x,0}.0) of Op dot(InplaceDimShuffle{0,x}.0, InplaceDimShuffle{x,0}.0) missing default value\n",
      "  return _dot(a, b)\n",
      "/usr/local/lib/python3.7/site-packages/theano/tensor/basic.py:6105: UserWarning: Warning, Cannot compute test value: input 1 (Elemwise{mul}.0) of Op dot(InplaceDimShuffle{1,0}.0, Elemwise{mul}.0) missing default value\n",
      "  return _dot(a, b)\n",
      "/usr/local/lib/python3.7/site-packages/theano/gof/op.py:1106: UserWarning: Argument 0('lambda') has no test value\n",
      "  \"') has no test value\")\n",
      "/usr/local/lib/python3.7/site-packages/theano/tensor/elemwise.py:635: UserWarning: Warning, Cannot compute test value: input 0 (Elemwise{true_div}.0) of Op Elemwise{mul}(Elemwise{true_div}.0, Elemwise{true_div,no_inplace}.0) missing default value\n",
      "  *[transform(ipt) for ipt in node.inputs])\n",
      "/usr/local/lib/python3.7/site-packages/theano/tensor/elemwise.py:635: UserWarning: Warning, Cannot compute test value: input 1 (Elemwise{true_div,no_inplace}.0) of Op Elemwise{mul}(Elemwise{true_div}.0, Elemwise{true_div,no_inplace}.0) missing default value\n",
      "  *[transform(ipt) for ipt in node.inputs])\n",
      "/usr/local/lib/python3.7/site-packages/theano/tensor/elemwise.py:635: UserWarning: Warning, Cannot compute test value: input 0 (Elemwise{true_div}.0) of Op Elemwise{mul}(Elemwise{true_div}.0, <TensorType(float64, scalar)>) missing default value\n",
      "  *[transform(ipt) for ipt in node.inputs])\n",
      "/usr/local/lib/python3.7/site-packages/theano/tensor/var.py:275: UserWarning: Warning, Cannot compute test value: input 0 (Elemwise{true_div,no_inplace}.0) of Op Shape(Elemwise{true_div,no_inplace}.0) missing default value\n",
      "  shape = property(lambda self: theano.tensor.basic.shape(self))\n",
      "/usr/local/lib/python3.7/site-packages/theano/tensor/elemwise.py:635: UserWarning: Warning, Cannot compute test value: input 0 (Elemwise{mul}.0) of Op Elemwise{true_div}(Elemwise{mul}.0, <TensorType(int64, scalar)>) missing default value\n",
      "  *[transform(ipt) for ipt in node.inputs])\n",
      "/usr/local/lib/python3.7/site-packages/theano/tensor/elemwise.py:635: UserWarning: Warning, Cannot compute test value: input 0 (Elemwise{mul}.0) of Op Elemwise{mul}(Elemwise{mul}.0, Elemwise{exp,no_inplace}.0) missing default value\n",
      "  *[transform(ipt) for ipt in node.inputs])\n",
      "/usr/local/lib/python3.7/site-packages/theano/tensor/elemwise.py:635: UserWarning: Warning, Cannot compute test value: input 1 (Elemwise{exp,no_inplace}.0) of Op Elemwise{mul}(Elemwise{mul}.0, Elemwise{exp,no_inplace}.0) missing default value\n",
      "  *[transform(ipt) for ipt in node.inputs])\n",
      "/usr/local/lib/python3.7/site-packages/theano/tensor/elemwise.py:635: UserWarning: Warning, Cannot compute test value: input 0 (Elemwise{mul}.0) of Op Elemwise{neg}(Elemwise{mul}.0) missing default value\n",
      "  *[transform(ipt) for ipt in node.inputs])\n"
     ]
    },
    {
     "name": "stderr",
     "output_type": "stream",
     "text": [
      "/usr/local/lib/python3.7/site-packages/theano/tensor/elemwise.py:635: UserWarning: Warning, Cannot compute test value: input 0 (Elemwise{neg}.0) of Op Elemwise{true_div}(Elemwise{neg}.0, Elemwise{mul}.0) missing default value\n",
      "  *[transform(ipt) for ipt in node.inputs])\n",
      "/usr/local/lib/python3.7/site-packages/theano/tensor/var.py:275: UserWarning: Warning, Cannot compute test value: input 0 (Elemwise{true_div}.0) of Op Shape(Elemwise{true_div}.0) missing default value\n",
      "  shape = property(lambda self: theano.tensor.basic.shape(self))\n",
      "/usr/local/lib/python3.7/site-packages/theano/gof/op.py:1109: UserWarning: Argument 0 has no test value\n",
      "  \" has no test value\")\n",
      "/usr/local/lib/python3.7/site-packages/theano/gof/op.py:1109: UserWarning: Argument 1 has no test value\n",
      "  \" has no test value\")\n",
      "/usr/local/lib/python3.7/site-packages/theano/tensor/var.py:275: UserWarning: Warning, Cannot compute test value: input 0 (Elemwise{exp,no_inplace}.0) of Op Shape(Elemwise{exp,no_inplace}.0) missing default value\n",
      "  shape = property(lambda self: theano.tensor.basic.shape(self))\n",
      "/usr/local/lib/python3.7/site-packages/theano/tensor/elemwise.py:635: UserWarning: Warning, Cannot compute test value: input 0 (Sum{acc_dtype=float64}.0) of Op Elemwise{exp}(Sum{acc_dtype=float64}.0) missing default value\n",
      "  *[transform(ipt) for ipt in node.inputs])\n",
      "/usr/local/lib/python3.7/site-packages/theano/tensor/elemwise.py:635: UserWarning: Warning, Cannot compute test value: input 0 (Elemwise{true_div}.0) of Op Elemwise{mul}(Elemwise{true_div}.0, Elemwise{exp}.0) missing default value\n",
      "  *[transform(ipt) for ipt in node.inputs])\n",
      "/usr/local/lib/python3.7/site-packages/theano/tensor/elemwise.py:635: UserWarning: Warning, Cannot compute test value: input 1 (Elemwise{exp}.0) of Op Elemwise{mul}(Elemwise{true_div}.0, Elemwise{exp}.0) missing default value\n",
      "  *[transform(ipt) for ipt in node.inputs])\n",
      "/usr/local/lib/python3.7/site-packages/theano/tensor/var.py:275: UserWarning: Warning, Cannot compute test value: input 0 (Elemwise{mul}.0) of Op Shape(Elemwise{mul}.0) missing default value\n",
      "  shape = property(lambda self: theano.tensor.basic.shape(self))\n",
      "/usr/local/lib/python3.7/site-packages/theano/tensor/var.py:275: UserWarning: Warning, Cannot compute test value: input 0 (Sum{acc_dtype=float64}.0) of Op Shape(Sum{acc_dtype=float64}.0) missing default value\n",
      "  shape = property(lambda self: theano.tensor.basic.shape(self))\n",
      "/usr/local/lib/python3.7/site-packages/theano/tensor/elemwise.py:1894: UserWarning: Warning, Cannot compute test value: input 0 (Elemwise{mul}.0) of Op InplaceDimShuffle{x}(Elemwise{mul}.0) missing default value\n",
      "  gx = Elemwise(scalar.second)(x, ds_op(gz))\n",
      "/usr/local/lib/python3.7/site-packages/theano/tensor/elemwise.py:1894: UserWarning: Warning, Cannot compute test value: input 0 (Elemwise{log,no_inplace}.0) of Op Elemwise{second}(Elemwise{log,no_inplace}.0, InplaceDimShuffle{x}.0) missing default value\n",
      "  gx = Elemwise(scalar.second)(x, ds_op(gz))\n",
      "/usr/local/lib/python3.7/site-packages/theano/tensor/elemwise.py:1894: UserWarning: Warning, Cannot compute test value: input 1 (InplaceDimShuffle{x}.0) of Op Elemwise{second}(Elemwise{log,no_inplace}.0, InplaceDimShuffle{x}.0) missing default value\n",
      "  gx = Elemwise(scalar.second)(x, ds_op(gz))\n",
      "/usr/local/lib/python3.7/site-packages/theano/tensor/var.py:275: UserWarning: Warning, Cannot compute test value: input 0 (Elemwise{second}.0) of Op Shape(Elemwise{second}.0) missing default value\n",
      "  shape = property(lambda self: theano.tensor.basic.shape(self))\n",
      "/usr/local/lib/python3.7/site-packages/theano/tensor/var.py:275: UserWarning: Warning, Cannot compute test value: input 0 (Elemwise{log,no_inplace}.0) of Op Shape(Elemwise{log,no_inplace}.0) missing default value\n",
      "  shape = property(lambda self: theano.tensor.basic.shape(self))\n",
      "/usr/local/lib/python3.7/site-packages/theano/tensor/elemwise.py:635: UserWarning: Warning, Cannot compute test value: input 0 (Elemwise{second}.0) of Op Elemwise{true_div}(Elemwise{second}.0, Sum{axis=[1], acc_dtype=float64}.0) missing default value\n",
      "  *[transform(ipt) for ipt in node.inputs])\n",
      "/usr/local/lib/python3.7/site-packages/theano/tensor/elemwise.py:635: UserWarning: Warning, Cannot compute test value: input 1 (Sum{axis=[1], acc_dtype=float64}.0) of Op Elemwise{true_div}(Elemwise{second}.0, Sum{axis=[1], acc_dtype=float64}.0) missing default value\n",
      "  *[transform(ipt) for ipt in node.inputs])\n",
      "/usr/local/lib/python3.7/site-packages/theano/tensor/var.py:275: UserWarning: Warning, Cannot compute test value: input 0 (Sum{axis=[1], acc_dtype=float64}.0) of Op Shape(Sum{axis=[1], acc_dtype=float64}.0) missing default value\n",
      "  shape = property(lambda self: theano.tensor.basic.shape(self))\n",
      "/usr/local/lib/python3.7/site-packages/theano/tensor/elemwise.py:1894: UserWarning: Warning, Cannot compute test value: input 0 (Elemwise{true_div}.0) of Op InplaceDimShuffle{0,x}(Elemwise{true_div}.0) missing default value\n",
      "  gx = Elemwise(scalar.second)(x, ds_op(gz))\n",
      "/usr/local/lib/python3.7/site-packages/theano/tensor/elemwise.py:1894: UserWarning: Warning, Cannot compute test value: input 0 (Elemwise{mul,no_inplace}.0) of Op Elemwise{second}(Elemwise{mul,no_inplace}.0, InplaceDimShuffle{0,x}.0) missing default value\n",
      "  gx = Elemwise(scalar.second)(x, ds_op(gz))\n",
      "/usr/local/lib/python3.7/site-packages/theano/tensor/elemwise.py:1894: UserWarning: Warning, Cannot compute test value: input 1 (InplaceDimShuffle{0,x}.0) of Op Elemwise{second}(Elemwise{mul,no_inplace}.0, InplaceDimShuffle{0,x}.0) missing default value\n",
      "  gx = Elemwise(scalar.second)(x, ds_op(gz))\n",
      "/usr/local/lib/python3.7/site-packages/theano/tensor/var.py:275: UserWarning: Warning, Cannot compute test value: input 0 (Elemwise{mul,no_inplace}.0) of Op Shape(Elemwise{mul,no_inplace}.0) missing default value\n",
      "  shape = property(lambda self: theano.tensor.basic.shape(self))\n",
      "/usr/local/lib/python3.7/site-packages/theano/tensor/elemwise.py:635: UserWarning: Warning, Cannot compute test value: input 0 (Elemwise{second}.0) of Op Elemwise{mul}(Elemwise{second}.0, <TensorType(float64, matrix)>) missing default value\n",
      "  *[transform(ipt) for ipt in node.inputs])\n",
      "/usr/local/lib/python3.7/site-packages/theano/tensor/elemwise.py:635: UserWarning: Warning, Cannot compute test value: input 0 (Elemwise{second}.0) of Op Elemwise{mul}(Elemwise{second}.0, Elemwise{exp,no_inplace}.0) missing default value\n",
      "  *[transform(ipt) for ipt in node.inputs])\n",
      "/usr/local/lib/python3.7/site-packages/theano/tensor/elemwise.py:635: UserWarning: Warning, Cannot compute test value: input 1 (Elemwise{exp,no_inplace}.0) of Op Elemwise{mul}(Elemwise{second}.0, Elemwise{exp,no_inplace}.0) missing default value\n",
      "  *[transform(ipt) for ipt in node.inputs])\n",
      "/usr/local/lib/python3.7/site-packages/theano/tensor/elemwise.py:635: UserWarning: Warning, Cannot compute test value: input 0 (Reshape{2}.0) of Op Elemwise{exp}(Reshape{2}.0) missing default value\n",
      "  *[transform(ipt) for ipt in node.inputs])\n",
      "/usr/local/lib/python3.7/site-packages/theano/tensor/elemwise.py:635: UserWarning: Warning, Cannot compute test value: input 0 (Elemwise{mul}.0) of Op Elemwise{mul}(Elemwise{mul}.0, Elemwise{exp}.0) missing default value\n",
      "  *[transform(ipt) for ipt in node.inputs])\n",
      "/usr/local/lib/python3.7/site-packages/theano/tensor/elemwise.py:635: UserWarning: Warning, Cannot compute test value: input 1 (Elemwise{exp}.0) of Op Elemwise{mul}(Elemwise{mul}.0, Elemwise{exp}.0) missing default value\n",
      "  *[transform(ipt) for ipt in node.inputs])\n",
      "/usr/local/lib/python3.7/site-packages/theano/tensor/var.py:275: UserWarning: Warning, Cannot compute test value: input 0 (Reshape{2}.0) of Op Shape(Reshape{2}.0) missing default value\n",
      "  shape = property(lambda self: theano.tensor.basic.shape(self))\n",
      "/usr/local/lib/python3.7/site-packages/theano/tensor/basic.py:4934: UserWarning: Warning, Cannot compute test value: input 0 (dot.0) of Op Shape(dot.0) missing default value\n",
      "  return [reshape(g_out, shape(x), ndim=x.ndim),\n",
      "/usr/local/lib/python3.7/site-packages/theano/tensor/var.py:611: UserWarning: Warning, Cannot compute test value: input 0 (Shape.0) of Op Subtensor{int64}(Shape.0, Constant{0}) missing default value\n",
      "  lambda entry: isinstance(entry, Variable)))\n",
      "/usr/local/lib/python3.7/site-packages/theano/tensor/var.py:611: UserWarning: Warning, Cannot compute test value: input 0 (Shape.0) of Op Subtensor{int64}(Shape.0, Constant{1}) missing default value\n",
      "  lambda entry: isinstance(entry, Variable)))\n",
      "/usr/local/lib/python3.7/site-packages/theano/tensor/basic.py:5066: UserWarning: Warning, Cannot compute test value: input 0 (Elemwise{mul}.0) of Op Reshape{2}(Elemwise{mul}.0, Shape.0) missing default value\n",
      "  rval = op(x, newshape)\n",
      "/usr/local/lib/python3.7/site-packages/theano/tensor/basic.py:5066: UserWarning: Warning, Cannot compute test value: input 1 (Shape.0) of Op Reshape{2}(Elemwise{mul}.0, Shape.0) missing default value\n",
      "  rval = op(x, newshape)\n",
      "/usr/local/lib/python3.7/site-packages/theano/tensor/var.py:275: UserWarning: Warning, Cannot compute test value: input 0 (dot.0) of Op Shape(dot.0) missing default value\n",
      "  shape = property(lambda self: theano.tensor.basic.shape(self))\n",
      "/usr/local/lib/python3.7/site-packages/theano/tensor/basic.py:3710: UserWarning: Warning, Cannot compute test value: input 0 (Reshape{2}.0) of Op InplaceDimShuffle{1,0}(Reshape{2}.0) missing default value\n",
      "  ret = DimShuffle(x.broadcastable, axes)(x)\n",
      "/usr/local/lib/python3.7/site-packages/theano/tensor/basic.py:6105: UserWarning: Warning, Cannot compute test value: input 0 (Reshape{2}.0) of Op dot(Reshape{2}.0, InplaceDimShuffle{1,0}.0) missing default value\n",
      "  return _dot(a, b)\n",
      "/usr/local/lib/python3.7/site-packages/theano/tensor/basic.py:6105: UserWarning: Warning, Cannot compute test value: input 1 (InplaceDimShuffle{1,0}.0) of Op dot(Reshape{2}.0, InplaceDimShuffle{1,0}.0) missing default value\n",
      "  return _dot(a, b)\n",
      "/usr/local/lib/python3.7/site-packages/theano/tensor/basic.py:6105: UserWarning: Warning, Cannot compute test value: input 1 (Reshape{2}.0) of Op dot(InplaceDimShuffle{1,0}.0, Reshape{2}.0) missing default value\n",
      "  return _dot(a, b)\n",
      "/usr/local/lib/python3.7/site-packages/theano/tensor/basic.py:4934: UserWarning: Warning, Cannot compute test value: input 0 (InplaceDimShuffle{0}.0) of Op Shape(InplaceDimShuffle{0}.0) missing default value\n",
      "  return [reshape(g_out, shape(x), ndim=x.ndim),\n",
      "/usr/local/lib/python3.7/site-packages/theano/tensor/basic.py:5066: UserWarning: Warning, Cannot compute test value: input 0 (dot.0) of Op Reshape{1}(dot.0, Shape.0) missing default value\n",
      "  rval = op(x, newshape)\n",
      "/usr/local/lib/python3.7/site-packages/theano/tensor/basic.py:5066: UserWarning: Warning, Cannot compute test value: input 1 (Shape.0) of Op Reshape{1}(dot.0, Shape.0) missing default value\n",
      "  rval = op(x, newshape)\n",
      "/usr/local/lib/python3.7/site-packages/theano/tensor/var.py:275: UserWarning: Warning, Cannot compute test value: input 0 (Reshape{1}.0) of Op Shape(Reshape{1}.0) missing default value\n",
      "  shape = property(lambda self: theano.tensor.basic.shape(self))\n",
      "/usr/local/lib/python3.7/site-packages/theano/tensor/var.py:275: UserWarning: Warning, Cannot compute test value: input 0 (InplaceDimShuffle{0}.0) of Op Shape(InplaceDimShuffle{0}.0) missing default value\n",
      "  shape = property(lambda self: theano.tensor.basic.shape(self))\n",
      "/usr/local/lib/python3.7/site-packages/theano/tensor/elemwise.py:306: UserWarning: Warning, Cannot compute test value: input 0 (Reshape{1}.0) of Op Elemwise{identity}(Reshape{1}.0) missing default value\n",
      "  Elemwise(scalar.identity)(gz))]\n",
      "/usr/local/lib/python3.7/site-packages/theano/tensor/elemwise.py:306: UserWarning: Warning, Cannot compute test value: input 0 (Elemwise{identity}.0) of Op InplaceDimShuffle{0}(Elemwise{identity}.0) missing default value\n",
      "  Elemwise(scalar.identity)(gz))]\n",
      "/usr/local/lib/python3.7/site-packages/theano/gof/op.py:1106: UserWarning: Argument 0('lambda') has no test value\n",
      "  \"') has no test value\")\n",
      "/usr/local/lib/python3.7/site-packages/theano/tensor/elemwise.py:438: UserWarning: Warning, Cannot compute test value: input 0 (Elemwise{neg}.0) of Op InplaceDimShuffle{x}(Elemwise{neg}.0) missing default value\n",
      "  ['x'] * difference + list(range(length)))(input))\n",
      "/usr/local/lib/python3.7/site-packages/theano/tensor/var.py:155: UserWarning: Warning, Cannot compute test value: input 0 (InplaceDimShuffle{x}.0) of Op Elemwise{mul,no_inplace}(InplaceDimShuffle{x}.0, <TensorType(float64, vector)>) missing default value\n",
      "  return theano.tensor.mul(self, other)\n",
      "/usr/local/lib/python3.7/site-packages/theano/tensor/var.py:155: UserWarning: Warning, Cannot compute test value: input 0 (InplaceDimShuffle{x}.0) of Op Elemwise{mul,no_inplace}(InplaceDimShuffle{x}.0, lambda) missing default value\n",
      "  return theano.tensor.mul(self, other)\n",
      "/usr/local/lib/python3.7/site-packages/theano/tensor/var.py:155: UserWarning: Warning, Cannot compute test value: input 1 (lambda) of Op Elemwise{mul,no_inplace}(InplaceDimShuffle{x}.0, lambda) missing default value\n",
      "  return theano.tensor.mul(self, other)\n",
      "/usr/local/lib/python3.7/site-packages/theano/tensor/elemwise.py:635: UserWarning: Warning, Cannot compute test value: input 0 (Elemwise{second,no_inplace}.0) of Op Elemwise{mul}(Elemwise{second,no_inplace}.0, dot.0) missing default value\n",
      "  *[transform(ipt) for ipt in node.inputs])\n",
      "/usr/local/lib/python3.7/site-packages/theano/tensor/elemwise.py:635: UserWarning: Warning, Cannot compute test value: input 1 (dot.0) of Op Elemwise{mul}(Elemwise{second,no_inplace}.0, dot.0) missing default value\n",
      "  *[transform(ipt) for ipt in node.inputs])\n",
      "/usr/local/lib/python3.7/site-packages/theano/tensor/elemwise.py:635: UserWarning: Warning, Cannot compute test value: input 0 (Elemwise{second,no_inplace}.0) of Op Elemwise{mul}(Elemwise{second,no_inplace}.0, <TensorType(float64, scalar)>) missing default value\n",
      "  *[transform(ipt) for ipt in node.inputs])\n",
      "/usr/local/lib/python3.7/site-packages/theano/tensor/elemwise.py:438: UserWarning: Warning, Cannot compute test value: input 0 (Elemwise{mul}.0) of Op InplaceDimShuffle{x}(Elemwise{mul}.0) missing default value\n",
      "  ['x'] * difference + list(range(length)))(input))\n",
      "/usr/local/lib/python3.7/site-packages/theano/tensor/var.py:128: UserWarning: Warning, Cannot compute test value: input 0 (dot.0) of Op Elemwise{add,no_inplace}(dot.0, InplaceDimShuffle{0}.0) missing default value\n",
      "  return theano.tensor.basic.add(self, other)\n",
      "/usr/local/lib/python3.7/site-packages/theano/tensor/var.py:128: UserWarning: Warning, Cannot compute test value: input 1 (InplaceDimShuffle{0}.0) of Op Elemwise{add,no_inplace}(dot.0, InplaceDimShuffle{0}.0) missing default value\n",
      "  return theano.tensor.basic.add(self, other)\n",
      "/usr/local/lib/python3.7/site-packages/theano/tensor/var.py:128: UserWarning: Warning, Cannot compute test value: input 0 (Elemwise{add,no_inplace}.0) of Op Elemwise{add,no_inplace}(Elemwise{add,no_inplace}.0, Elemwise{mul,no_inplace}.0) missing default value\n",
      "  return theano.tensor.basic.add(self, other)\n",
      "/usr/local/lib/python3.7/site-packages/theano/tensor/var.py:128: UserWarning: Warning, Cannot compute test value: input 1 (Elemwise{mul,no_inplace}.0) of Op Elemwise{add,no_inplace}(Elemwise{add,no_inplace}.0, Elemwise{mul,no_inplace}.0) missing default value\n",
      "  return theano.tensor.basic.add(self, other)\n",
      "/usr/local/lib/python3.7/site-packages/theano/tensor/basic.py:2522: UserWarning: Warning, Cannot compute test value: input 0 (Elemwise{add,no_inplace}.0) of Op Elemwise{second,no_inplace}(Elemwise{add,no_inplace}.0, TensorConstant{1.0}) missing default value\n",
      "  return fill(model, ret)\n",
      "/usr/local/lib/python3.7/site-packages/theano/tensor/var.py:275: UserWarning: Warning, Cannot compute test value: input 0 (Elemwise{add,no_inplace}.0) of Op Shape(Elemwise{add,no_inplace}.0) missing default value\n",
      "  shape = property(lambda self: theano.tensor.basic.shape(self))\n",
      "/usr/local/lib/python3.7/site-packages/theano/tensor/var.py:275: UserWarning: Warning, Cannot compute test value: input 0 (Elemwise{second,no_inplace}.0) of Op Shape(Elemwise{second,no_inplace}.0) missing default value\n",
      "  shape = property(lambda self: theano.tensor.basic.shape(self))\n",
      "/usr/local/lib/python3.7/site-packages/theano/tensor/var.py:275: UserWarning: Warning, Cannot compute test value: input 0 (Elemwise{sub,no_inplace}.0) of Op Shape(Elemwise{sub,no_inplace}.0) missing default value\n",
      "  shape = property(lambda self: theano.tensor.basic.shape(self))\n",
      "/usr/local/lib/python3.7/site-packages/theano/tensor/elemwise.py:635: UserWarning: Warning, Cannot compute test value: input 0 (Elemwise{second,no_inplace}.0) of Op Elemwise{neg}(Elemwise{second,no_inplace}.0) missing default value\n",
      "  *[transform(ipt) for ipt in node.inputs])\n",
      "/usr/local/lib/python3.7/site-packages/theano/tensor/var.py:275: UserWarning: Warning, Cannot compute test value: input 0 (Elemwise{neg}.0) of Op Shape(Elemwise{neg}.0) missing default value\n",
      "  shape = property(lambda self: theano.tensor.basic.shape(self))\n",
      "/usr/local/lib/python3.7/site-packages/theano/tensor/elemwise.py:635: UserWarning: Warning, Cannot compute test value: input 0 (Elemwise{second,no_inplace}.0) of Op Elemwise{true_div}(Elemwise{second,no_inplace}.0, Elemwise{add,no_inplace}.0) missing default value\n",
      "  *[transform(ipt) for ipt in node.inputs])\n",
      "/usr/local/lib/python3.7/site-packages/theano/tensor/elemwise.py:635: UserWarning: Warning, Cannot compute test value: input 1 (Elemwise{add,no_inplace}.0) of Op Elemwise{true_div}(Elemwise{second,no_inplace}.0, Elemwise{add,no_inplace}.0) missing default value\n",
      "  *[transform(ipt) for ipt in node.inputs])\n",
      "/usr/local/lib/python3.7/site-packages/theano/tensor/elemwise.py:635: UserWarning: Warning, Cannot compute test value: input 0 (Elemwise{true_div}.0) of Op Elemwise{mul}(Elemwise{true_div}.0, Elemwise{true_div,no_inplace}.0) missing default value\n",
      "  *[transform(ipt) for ipt in node.inputs])\n",
      "/usr/local/lib/python3.7/site-packages/theano/tensor/elemwise.py:635: UserWarning: Warning, Cannot compute test value: input 1 (Elemwise{true_div,no_inplace}.0) of Op Elemwise{mul}(Elemwise{true_div}.0, Elemwise{true_div,no_inplace}.0) missing default value\n",
      "  *[transform(ipt) for ipt in node.inputs])\n",
      "/usr/local/lib/python3.7/site-packages/theano/tensor/elemwise.py:635: UserWarning: Warning, Cannot compute test value: input 0 (Elemwise{true_div}.0) of Op Elemwise{mul}(Elemwise{true_div}.0, Elemwise{sub,no_inplace}.0) missing default value\n",
      "  *[transform(ipt) for ipt in node.inputs])\n",
      "/usr/local/lib/python3.7/site-packages/theano/tensor/var.py:275: UserWarning: Warning, Cannot compute test value: input 0 (Elemwise{true_div,no_inplace}.0) of Op Shape(Elemwise{true_div,no_inplace}.0) missing default value\n",
      "  shape = property(lambda self: theano.tensor.basic.shape(self))\n",
      "/usr/local/lib/python3.7/site-packages/theano/tensor/elemwise.py:635: UserWarning: Warning, Cannot compute test value: input 0 (Elemwise{mul}.0) of Op Elemwise{true_div}(Elemwise{mul}.0, Sum{acc_dtype=float64}.0) missing default value\n",
      "  *[transform(ipt) for ipt in node.inputs])\n",
      "/usr/local/lib/python3.7/site-packages/theano/tensor/elemwise.py:635: UserWarning: Warning, Cannot compute test value: input 0 (Elemwise{mul}.0) of Op Elemwise{mul}(Elemwise{mul}.0, Sum{acc_dtype=float64}.0) missing default value\n",
      "  *[transform(ipt) for ipt in node.inputs])\n",
      "/usr/local/lib/python3.7/site-packages/theano/tensor/elemwise.py:635: UserWarning: Warning, Cannot compute test value: input 1 (Sum{acc_dtype=float64}.0) of Op Elemwise{mul}(Elemwise{mul}.0, Sum{acc_dtype=float64}.0) missing default value\n",
      "  *[transform(ipt) for ipt in node.inputs])\n",
      "/usr/local/lib/python3.7/site-packages/theano/tensor/elemwise.py:635: UserWarning: Warning, Cannot compute test value: input 0 (Elemwise{mul}.0) of Op Elemwise{neg}(Elemwise{mul}.0) missing default value\n",
      "  *[transform(ipt) for ipt in node.inputs])\n",
      "/usr/local/lib/python3.7/site-packages/theano/tensor/elemwise.py:1894: UserWarning: Warning, Cannot compute test value: input 0 (Elemwise{true_div}.0) of Op InplaceDimShuffle{x}(Elemwise{true_div}.0) missing default value\n",
      "  gx = Elemwise(scalar.second)(x, ds_op(gz))\n",
      "/usr/local/lib/python3.7/site-packages/theano/tensor/elemwise.py:1894: UserWarning: Warning, Cannot compute test value: input 0 (Elemwise{mul,no_inplace}.0) of Op Elemwise{second}(Elemwise{mul,no_inplace}.0, InplaceDimShuffle{x}.0) missing default value\n",
      "  gx = Elemwise(scalar.second)(x, ds_op(gz))\n",
      "/usr/local/lib/python3.7/site-packages/theano/tensor/elemwise.py:1894: UserWarning: Warning, Cannot compute test value: input 1 (InplaceDimShuffle{x}.0) of Op Elemwise{second}(Elemwise{mul,no_inplace}.0, InplaceDimShuffle{x}.0) missing default value\n",
      "  gx = Elemwise(scalar.second)(x, ds_op(gz))\n",
      "/usr/local/lib/python3.7/site-packages/theano/tensor/elemwise.py:635: UserWarning: Warning, Cannot compute test value: input 0 (Elemwise{second}.0) of Op Elemwise{mul}(Elemwise{second}.0, <TensorType(float64, vector)>) missing default value\n",
      "  *[transform(ipt) for ipt in node.inputs])\n",
      "/usr/local/lib/python3.7/site-packages/theano/tensor/elemwise.py:635: UserWarning: Warning, Cannot compute test value: input 0 (dot.0) of Op Elemwise{exp}(dot.0) missing default value\n",
      "  *[transform(ipt) for ipt in node.inputs])\n",
      "/usr/local/lib/python3.7/site-packages/theano/tensor/basic.py:3710: UserWarning: Warning, Cannot compute test value: input 0 (lambda) of Op InplaceDimShuffle{0}(lambda) missing default value\n",
      "  ret = DimShuffle(x.broadcastable, axes)(x)\n",
      "/usr/local/lib/python3.7/site-packages/theano/tensor/var.py:356: UserWarning: Warning, Cannot compute test value: input 0 (Elemwise{mul}.0) of Op InplaceDimShuffle{0,x}(Elemwise{mul}.0) missing default value\n",
      "  return op(self)\n",
      "/usr/local/lib/python3.7/site-packages/theano/tensor/var.py:356: UserWarning: Warning, Cannot compute test value: input 0 (lambda.T) of Op InplaceDimShuffle{x,0}(lambda.T) missing default value\n",
      "  return op(self)\n",
      "/usr/local/lib/python3.7/site-packages/theano/tensor/basic.py:6105: UserWarning: Warning, Cannot compute test value: input 0 (InplaceDimShuffle{0,x}.0) of Op dot(InplaceDimShuffle{0,x}.0, InplaceDimShuffle{x,0}.0) missing default value\n",
      "  return _dot(a, b)\n",
      "/usr/local/lib/python3.7/site-packages/theano/tensor/basic.py:6105: UserWarning: Warning, Cannot compute test value: input 1 (InplaceDimShuffle{x,0}.0) of Op dot(InplaceDimShuffle{0,x}.0, InplaceDimShuffle{x,0}.0) missing default value\n",
      "  return _dot(a, b)\n",
      "/usr/local/lib/python3.7/site-packages/theano/tensor/basic.py:6105: UserWarning: Warning, Cannot compute test value: input 1 (Elemwise{mul}.0) of Op dot(InplaceDimShuffle{1,0}.0, Elemwise{mul}.0) missing default value\n",
      "  return _dot(a, b)\n",
      "/usr/local/lib/python3.7/site-packages/theano/tensor/elemwise.py:635: UserWarning: Warning, Cannot compute test value: input 0 (Elemwise{true_div}.0) of Op Elemwise{mul}(Elemwise{true_div}.0, <TensorType(float64, scalar)>) missing default value\n",
      "  *[transform(ipt) for ipt in node.inputs])\n"
     ]
    },
    {
     "name": "stderr",
     "output_type": "stream",
     "text": [
      "/usr/local/lib/python3.7/site-packages/theano/tensor/elemwise.py:635: UserWarning: Warning, Cannot compute test value: input 0 (Elemwise{mul}.0) of Op Elemwise{true_div}(Elemwise{mul}.0, <TensorType(int64, scalar)>) missing default value\n",
      "  *[transform(ipt) for ipt in node.inputs])\n",
      "/usr/local/lib/python3.7/site-packages/theano/tensor/elemwise.py:635: UserWarning: Warning, Cannot compute test value: input 0 (Elemwise{mul}.0) of Op Elemwise{mul}(Elemwise{mul}.0, Elemwise{exp,no_inplace}.0) missing default value\n",
      "  *[transform(ipt) for ipt in node.inputs])\n",
      "/usr/local/lib/python3.7/site-packages/theano/tensor/elemwise.py:635: UserWarning: Warning, Cannot compute test value: input 1 (Elemwise{exp,no_inplace}.0) of Op Elemwise{mul}(Elemwise{mul}.0, Elemwise{exp,no_inplace}.0) missing default value\n",
      "  *[transform(ipt) for ipt in node.inputs])\n",
      "/usr/local/lib/python3.7/site-packages/theano/tensor/basic.py:5620: UserWarning: Warning, Cannot compute test value: input 1 (Subtensor{int64}.0) of Op ARange{dtype='int64'}(TensorConstant{0}, Subtensor{int64}.0, TensorConstant{1}) missing default value\n",
      "  return _arange[dtype](start, stop, step)\n",
      "/usr/local/lib/python3.7/site-packages/theano/tensor/var.py:611: UserWarning: Warning, Cannot compute test value: input 0 (ARange{dtype='int64'}.0) of Op Subtensor{int64}(ARange{dtype='int64'}.0, Constant{0}) missing default value\n",
      "  lambda entry: isinstance(entry, Variable)))\n",
      "/usr/local/lib/python3.7/site-packages/theano/tensor/var.py:611: UserWarning: Warning, Cannot compute test value: input 0 (ARange{dtype='int64'}.0) of Op Subtensor{int64::}(ARange{dtype='int64'}.0, Constant{0}) missing default value\n",
      "  lambda entry: isinstance(entry, Variable)))\n",
      "/usr/local/lib/python3.7/site-packages/theano/tensor/var.py:275: UserWarning: Warning, Cannot compute test value: input 0 (Subtensor{int64::}.0) of Op Shape(Subtensor{int64::}.0) missing default value\n",
      "  shape = property(lambda self: theano.tensor.basic.shape(self))\n",
      "/usr/local/lib/python3.7/site-packages/theano/tensor/subtensor.py:464: UserWarning: Warning, Cannot compute test value: input 0 (Subtensor{int64}.0) of Op ScalarFromTensor(Subtensor{int64}.0) missing default value\n",
      "  return theano.tensor.scalar_from_tensor(a)\n",
      "/usr/local/lib/python3.7/site-packages/theano/tensor/var.py:611: UserWarning: Warning, Cannot compute test value: input 0 (Subtensor{int64::}.0) of Op Subtensor{:int64:}(Subtensor{int64::}.0, ScalarFromTensor.0) missing default value\n",
      "  lambda entry: isinstance(entry, Variable)))\n",
      "/usr/local/lib/python3.7/site-packages/theano/tensor/var.py:611: UserWarning: Warning, Cannot compute test value: input 1 (ScalarFromTensor.0) of Op Subtensor{:int64:}(Subtensor{int64::}.0, ScalarFromTensor.0) missing default value\n",
      "  lambda entry: isinstance(entry, Variable)))\n",
      "/usr/local/lib/python3.7/site-packages/theano/tensor/subtensor.py:464: UserWarning: Warning, Cannot compute test value: input 0 (<TensorType(int64, scalar)>) of Op ScalarFromTensor(<TensorType(int64, scalar)>) missing default value\n",
      "  return theano.tensor.scalar_from_tensor(a)\n",
      "/usr/local/lib/python3.7/site-packages/theano/tensor/var.py:611: UserWarning: Warning, Cannot compute test value: input 0 (Elemwise{add,no_inplace}.0) of Op Subtensor{int64}(Elemwise{add,no_inplace}.0, ScalarFromTensor.0) missing default value\n",
      "  lambda entry: isinstance(entry, Variable)))\n",
      "/usr/local/lib/python3.7/site-packages/theano/tensor/var.py:611: UserWarning: Warning, Cannot compute test value: input 1 (ScalarFromTensor.0) of Op Subtensor{int64}(Elemwise{add,no_inplace}.0, ScalarFromTensor.0) missing default value\n",
      "  lambda entry: isinstance(entry, Variable)))\n",
      "/usr/local/lib/python3.7/site-packages/theano/tensor/basic.py:2522: UserWarning: Warning, Cannot compute test value: input 0 (Subtensor{int64}.0) of Op Elemwise{second,no_inplace}(Subtensor{int64}.0, TensorConstant{1.0}) missing default value\n",
      "  return fill(model, ret)\n",
      "/usr/local/lib/python3.7/site-packages/theano/tensor/var.py:275: UserWarning: Warning, Cannot compute test value: input 0 (Subtensor{int64}.0) of Op Shape(Subtensor{int64}.0) missing default value\n",
      "  shape = property(lambda self: theano.tensor.basic.shape(self))\n",
      "/usr/local/lib/python3.7/site-packages/theano/tensor/basic.py:2547: UserWarning: Warning, Cannot compute test value: input 0 (Elemwise{add,no_inplace}.0) of Op Elemwise{second,no_inplace}(Elemwise{add,no_inplace}.0, InplaceDimShuffle{x}.0) missing default value\n",
      "  return fill(model, ret)\n",
      "/usr/local/lib/python3.7/site-packages/theano/tensor/subtensor.py:582: UserWarning: Warning, Cannot compute test value: input 0 (Elemwise{second,no_inplace}.0) of Op IncSubtensor{Inc;int64}(Elemwise{second,no_inplace}.0, Elemwise{second,no_inplace}.0, ScalarFromTensor.0) missing default value\n",
      "  gz, *rest)\n",
      "/usr/local/lib/python3.7/site-packages/theano/tensor/subtensor.py:582: UserWarning: Warning, Cannot compute test value: input 1 (Elemwise{second,no_inplace}.0) of Op IncSubtensor{Inc;int64}(Elemwise{second,no_inplace}.0, Elemwise{second,no_inplace}.0, ScalarFromTensor.0) missing default value\n",
      "  gz, *rest)\n",
      "/usr/local/lib/python3.7/site-packages/theano/tensor/subtensor.py:582: UserWarning: Warning, Cannot compute test value: input 2 (ScalarFromTensor.0) of Op IncSubtensor{Inc;int64}(Elemwise{second,no_inplace}.0, Elemwise{second,no_inplace}.0, ScalarFromTensor.0) missing default value\n",
      "  gz, *rest)\n",
      "/usr/local/lib/python3.7/site-packages/theano/tensor/var.py:275: UserWarning: Warning, Cannot compute test value: input 0 (IncSubtensor{Inc;int64}.0) of Op Shape(IncSubtensor{Inc;int64}.0) missing default value\n",
      "  shape = property(lambda self: theano.tensor.basic.shape(self))\n",
      "/usr/local/lib/python3.7/site-packages/theano/tensor/basic.py:3710: UserWarning: Warning, Cannot compute test value: input 0 (Elemwise{mul}.0) of Op InplaceDimShuffle{0}(Elemwise{mul}.0) missing default value\n",
      "  ret = DimShuffle(x.broadcastable, axes)(x)\n",
      "/usr/local/lib/python3.7/site-packages/theano/tensor/var.py:356: UserWarning: Warning, Cannot compute test value: input 0 (IncSubtensor{Inc;int64}.0) of Op InplaceDimShuffle{0,x}(IncSubtensor{Inc;int64}.0) missing default value\n",
      "  return op(self)\n",
      "/usr/local/lib/python3.7/site-packages/theano/tensor/var.py:356: UserWarning: Warning, Cannot compute test value: input 0 (InplaceDimShuffle{0}.0) of Op InplaceDimShuffle{x,0}(InplaceDimShuffle{0}.0) missing default value\n",
      "  return op(self)\n",
      "/usr/local/lib/python3.7/site-packages/theano/tensor/basic.py:6105: UserWarning: Warning, Cannot compute test value: input 1 (IncSubtensor{Inc;int64}.0) of Op dot(InplaceDimShuffle{1,0}.0, IncSubtensor{Inc;int64}.0) missing default value\n",
      "  return _dot(a, b)\n",
      "/usr/local/lib/python3.7/site-packages/theano/tensor/elemwise.py:635: UserWarning: Warning, Cannot compute test value: input 0 (dot.0) of Op Elemwise{mul}(dot.0, Elemwise{exp}.0) missing default value\n",
      "  *[transform(ipt) for ipt in node.inputs])\n",
      "/usr/local/lib/python3.7/site-packages/theano/tensor/elemwise.py:635: UserWarning: Warning, Cannot compute test value: input 1 (Elemwise{exp}.0) of Op Elemwise{mul}(dot.0, Elemwise{exp}.0) missing default value\n",
      "  *[transform(ipt) for ipt in node.inputs])\n",
      "/usr/local/lib/python3.7/site-packages/theano/tensor/elemwise.py:635: UserWarning: Warning, Cannot compute test value: input 0 (dot.0) of Op Elemwise{mul}(dot.0, Elemwise{mul}.0) missing default value\n",
      "  *[transform(ipt) for ipt in node.inputs])\n",
      "/usr/local/lib/python3.7/site-packages/theano/tensor/elemwise.py:635: UserWarning: Warning, Cannot compute test value: input 1 (Elemwise{mul}.0) of Op Elemwise{mul}(dot.0, Elemwise{mul}.0) missing default value\n",
      "  *[transform(ipt) for ipt in node.inputs])\n",
      "/usr/local/lib/python3.7/site-packages/theano/tensor/elemwise.py:635: UserWarning: Warning, Cannot compute test value: input 0 (Elemwise{mul}.0) of Op Elemwise{mul}(Elemwise{mul}.0, <TensorType(float64, vector)>) missing default value\n",
      "  *[transform(ipt) for ipt in node.inputs])\n",
      "/usr/local/lib/python3.7/site-packages/theano/tensor/elemwise.py:635: UserWarning: Warning, Cannot compute test value: input 0 (Elemwise{mul}.0) of Op Elemwise{mul}(Elemwise{mul}.0, Elemwise{second}.0) missing default value\n",
      "  *[transform(ipt) for ipt in node.inputs])\n",
      "/usr/local/lib/python3.7/site-packages/theano/tensor/elemwise.py:635: UserWarning: Warning, Cannot compute test value: input 1 (Elemwise{second}.0) of Op Elemwise{mul}(Elemwise{mul}.0, Elemwise{second}.0) missing default value\n",
      "  *[transform(ipt) for ipt in node.inputs])\n",
      "/usr/local/lib/python3.7/site-packages/theano/tensor/basic.py:3210: UserWarning: Warning, Cannot compute test value: input 0 (Elemwise{mul}.0) of Op Sum{axis=[0], acc_dtype=float64}(Elemwise{mul}.0) missing default value\n",
      "  out = elemwise.Sum(axis=axis, dtype=dtype, acc_dtype=acc_dtype)(input)\n",
      "/usr/local/lib/python3.7/site-packages/theano/tensor/basic.py:1647: UserWarning: Warning, Cannot compute test value: input 0 (Sum{axis=[0], acc_dtype=float64}.0) of Op InplaceDimShuffle{x}(Sum{axis=[0], acc_dtype=float64}.0) missing default value\n",
      "  return DimShuffle(y.type.broadcastable, new_dims)(y)\n",
      "/usr/local/lib/python3.7/site-packages/theano/tensor/var.py:275: UserWarning: Warning, Cannot compute test value: input 0 (InplaceDimShuffle{x}.0) of Op Shape(InplaceDimShuffle{x}.0) missing default value\n",
      "  shape = property(lambda self: theano.tensor.basic.shape(self))\n",
      "/usr/local/lib/python3.7/site-packages/theano/tensor/elemwise.py:306: UserWarning: Warning, Cannot compute test value: input 0 (InplaceDimShuffle{x}.0) of Op Elemwise{identity}(InplaceDimShuffle{x}.0) missing default value\n",
      "  Elemwise(scalar.identity)(gz))]\n",
      "/usr/local/lib/python3.7/site-packages/theano/tensor/elemwise.py:306: UserWarning: Warning, Cannot compute test value: input 0 (Elemwise{identity}.0) of Op InplaceDimShuffle{}(Elemwise{identity}.0) missing default value\n",
      "  Elemwise(scalar.identity)(gz))]\n",
      "/usr/local/lib/python3.7/site-packages/theano/tensor/var.py:275: UserWarning: Warning, Cannot compute test value: input 0 (InplaceDimShuffle{}.0) of Op Shape(InplaceDimShuffle{}.0) missing default value\n",
      "  shape = property(lambda self: theano.tensor.basic.shape(self))\n",
      "/usr/local/lib/python3.7/site-packages/theano/tensor/elemwise.py:635: UserWarning: Warning, Cannot compute test value: input 0 (InplaceDimShuffle{}.0) of Op Elemwise{true_div}(InplaceDimShuffle{}.0, Sum{acc_dtype=float64}.0) missing default value\n",
      "  *[transform(ipt) for ipt in node.inputs])\n",
      "/usr/local/lib/python3.7/site-packages/theano/tensor/elemwise.py:635: UserWarning: Warning, Cannot compute test value: input 0 (InplaceDimShuffle{}.0) of Op Elemwise{mul}(InplaceDimShuffle{}.0, Elemwise{mul}.0) missing default value\n",
      "  *[transform(ipt) for ipt in node.inputs])\n",
      "/usr/local/lib/python3.7/site-packages/theano/tensor/elemwise.py:635: UserWarning: Warning, Cannot compute test value: input 1 (Elemwise{mul}.0) of Op Elemwise{mul}(InplaceDimShuffle{}.0, Elemwise{mul}.0) missing default value\n",
      "  *[transform(ipt) for ipt in node.inputs])\n",
      "/usr/local/lib/python3.7/site-packages/theano/tensor/elemwise.py:635: UserWarning: Warning, Cannot compute test value: input 0 (Elemwise{true_div}.0) of Op Elemwise{mul}(Elemwise{true_div}.0, Elemwise{true_div}.0) missing default value\n",
      "  *[transform(ipt) for ipt in node.inputs])\n",
      "/usr/local/lib/python3.7/site-packages/theano/tensor/elemwise.py:635: UserWarning: Warning, Cannot compute test value: input 1 (Elemwise{true_div}.0) of Op Elemwise{mul}(Elemwise{true_div}.0, Elemwise{true_div}.0) missing default value\n",
      "  *[transform(ipt) for ipt in node.inputs])\n",
      "/usr/local/lib/python3.7/site-packages/theano/tensor/elemwise.py:306: UserWarning: Warning, Cannot compute test value: input 0 (IncSubtensor{Inc;int64}.0) of Op Elemwise{identity}(IncSubtensor{Inc;int64}.0) missing default value\n",
      "  Elemwise(scalar.identity)(gz))]\n",
      "/usr/local/lib/python3.7/site-packages/theano/tensor/var.py:275: UserWarning: Warning, Cannot compute test value: input 0 (Elemwise{identity}.0) of Op Shape(Elemwise{identity}.0) missing default value\n",
      "  shape = property(lambda self: theano.tensor.basic.shape(self))\n",
      "/usr/local/lib/python3.7/site-packages/theano/tensor/basic.py:5066: UserWarning: Warning, Cannot compute test value: input 0 (InplaceDimShuffle{0}.0) of Op Reshape{2}(InplaceDimShuffle{0}.0, Shape.0) missing default value\n",
      "  rval = op(x, newshape)\n",
      "/usr/local/lib/python3.7/site-packages/theano/tensor/basic.py:5066: UserWarning: Warning, Cannot compute test value: input 1 (Shape.0) of Op Reshape{2}(InplaceDimShuffle{0}.0, Shape.0) missing default value\n",
      "  rval = op(x, newshape)\n",
      "/usr/local/lib/python3.7/site-packages/theano/tensor/basic.py:4934: UserWarning: Warning, Cannot compute test value: input 0 (Elemwise{mul}.0) of Op Shape(Elemwise{mul}.0) missing default value\n",
      "  return [reshape(g_out, shape(x), ndim=x.ndim),\n",
      "/usr/local/lib/python3.7/site-packages/theano/tensor/basic.py:5066: UserWarning: Warning, Cannot compute test value: input 0 (dot.0) of Op Reshape{2}(dot.0, Shape.0) missing default value\n",
      "  rval = op(x, newshape)\n",
      "/usr/local/lib/python3.7/site-packages/theano/tensor/basic.py:5066: UserWarning: Warning, Cannot compute test value: input 1 (Shape.0) of Op Reshape{2}(dot.0, Shape.0) missing default value\n",
      "  rval = op(x, newshape)\n",
      "/usr/local/lib/python3.7/site-packages/theano/tensor/elemwise.py:635: UserWarning: Warning, Cannot compute test value: input 0 (Reshape{2}.0) of Op Elemwise{mul}(Reshape{2}.0, Elemwise{exp}.0) missing default value\n",
      "  *[transform(ipt) for ipt in node.inputs])\n",
      "/usr/local/lib/python3.7/site-packages/theano/tensor/elemwise.py:635: UserWarning: Warning, Cannot compute test value: input 1 (Elemwise{exp}.0) of Op Elemwise{mul}(Reshape{2}.0, Elemwise{exp}.0) missing default value\n",
      "  *[transform(ipt) for ipt in node.inputs])\n",
      "/usr/local/lib/python3.7/site-packages/theano/tensor/elemwise.py:635: UserWarning: Warning, Cannot compute test value: input 0 (Reshape{2}.0) of Op Elemwise{mul}(Reshape{2}.0, Elemwise{mul}.0) missing default value\n",
      "  *[transform(ipt) for ipt in node.inputs])\n",
      "/usr/local/lib/python3.7/site-packages/theano/tensor/elemwise.py:635: UserWarning: Warning, Cannot compute test value: input 1 (Elemwise{mul}.0) of Op Elemwise{mul}(Reshape{2}.0, Elemwise{mul}.0) missing default value\n",
      "  *[transform(ipt) for ipt in node.inputs])\n",
      "/usr/local/lib/python3.7/site-packages/theano/tensor/elemwise.py:635: UserWarning: Warning, Cannot compute test value: input 0 (Elemwise{mul}.0) of Op Elemwise{mul}(Elemwise{mul}.0, <TensorType(float64, matrix)>) missing default value\n",
      "  *[transform(ipt) for ipt in node.inputs])\n",
      "/usr/local/lib/python3.7/site-packages/theano/tensor/basic.py:3210: UserWarning: Warning, Cannot compute test value: input 0 (Elemwise{mul}.0) of Op Sum{axis=[1], acc_dtype=float64}(Elemwise{mul}.0) missing default value\n",
      "  out = elemwise.Sum(axis=axis, dtype=dtype, acc_dtype=acc_dtype)(input)\n"
     ]
    },
    {
     "name": "stderr",
     "output_type": "stream",
     "text": [
      "/usr/local/lib/python3.7/site-packages/theano/tensor/basic.py:1647: UserWarning: Warning, Cannot compute test value: input 0 (Sum{axis=[1], acc_dtype=float64}.0) of Op InplaceDimShuffle{0,x}(Sum{axis=[1], acc_dtype=float64}.0) missing default value\n",
      "  return DimShuffle(y.type.broadcastable, new_dims)(y)\n",
      "/usr/local/lib/python3.7/site-packages/theano/tensor/var.py:275: UserWarning: Warning, Cannot compute test value: input 0 (InplaceDimShuffle{0,x}.0) of Op Shape(InplaceDimShuffle{0,x}.0) missing default value\n",
      "  shape = property(lambda self: theano.tensor.basic.shape(self))\n",
      "/usr/local/lib/python3.7/site-packages/theano/tensor/elemwise.py:306: UserWarning: Warning, Cannot compute test value: input 0 (InplaceDimShuffle{0,x}.0) of Op Elemwise{identity}(InplaceDimShuffle{0,x}.0) missing default value\n",
      "  Elemwise(scalar.identity)(gz))]\n",
      "/usr/local/lib/python3.7/site-packages/theano/tensor/elemwise.py:635: UserWarning: Warning, Cannot compute test value: input 0 (InplaceDimShuffle{0}.0) of Op Elemwise{true_div}(InplaceDimShuffle{0}.0, Sum{axis=[1], acc_dtype=float64}.0) missing default value\n",
      "  *[transform(ipt) for ipt in node.inputs])\n",
      "/usr/local/lib/python3.7/site-packages/theano/tensor/elemwise.py:635: UserWarning: Warning, Cannot compute test value: input 1 (Sum{axis=[1], acc_dtype=float64}.0) of Op Elemwise{true_div}(InplaceDimShuffle{0}.0, Sum{axis=[1], acc_dtype=float64}.0) missing default value\n",
      "  *[transform(ipt) for ipt in node.inputs])\n",
      "/usr/local/lib/python3.7/site-packages/theano/tensor/elemwise.py:635: UserWarning: Warning, Cannot compute test value: input 0 (InplaceDimShuffle{0}.0) of Op Elemwise{mul}(InplaceDimShuffle{0}.0, Elemwise{second}.0) missing default value\n",
      "  *[transform(ipt) for ipt in node.inputs])\n",
      "/usr/local/lib/python3.7/site-packages/theano/tensor/elemwise.py:635: UserWarning: Warning, Cannot compute test value: input 1 (Elemwise{second}.0) of Op Elemwise{mul}(InplaceDimShuffle{0}.0, Elemwise{second}.0) missing default value\n",
      "  *[transform(ipt) for ipt in node.inputs])\n",
      "/usr/local/lib/python3.7/site-packages/theano/tensor/elemwise.py:635: UserWarning: Warning, Cannot compute test value: input 0 (Sum{axis=[1], acc_dtype=float64}.0) of Op Elemwise{mul}(Sum{axis=[1], acc_dtype=float64}.0, Sum{axis=[1], acc_dtype=float64}.0) missing default value\n",
      "  *[transform(ipt) for ipt in node.inputs])\n",
      "/usr/local/lib/python3.7/site-packages/theano/tensor/elemwise.py:635: UserWarning: Warning, Cannot compute test value: input 1 (Sum{axis=[1], acc_dtype=float64}.0) of Op Elemwise{mul}(Sum{axis=[1], acc_dtype=float64}.0, Sum{axis=[1], acc_dtype=float64}.0) missing default value\n",
      "  *[transform(ipt) for ipt in node.inputs])\n",
      "/usr/local/lib/python3.7/site-packages/theano/tensor/elemwise.py:635: UserWarning: Warning, Cannot compute test value: input 1 (Elemwise{mul}.0) of Op Elemwise{true_div}(Elemwise{neg}.0, Elemwise{mul}.0) missing default value\n",
      "  *[transform(ipt) for ipt in node.inputs])\n",
      "/usr/local/lib/python3.7/site-packages/theano/tensor/basic.py:3210: UserWarning: Warning, Cannot compute test value: input 0 (Elemwise{true_div}.0) of Op Sum{axis=[0], acc_dtype=float64}(Elemwise{true_div}.0) missing default value\n",
      "  out = elemwise.Sum(axis=axis, dtype=dtype, acc_dtype=acc_dtype)(input)\n",
      "/usr/local/lib/python3.7/site-packages/theano/tensor/elemwise.py:635: UserWarning: Warning, Cannot compute test value: input 0 (InplaceDimShuffle{}.0) of Op Elemwise{mul}(InplaceDimShuffle{}.0, Elemwise{exp}.0) missing default value\n",
      "  *[transform(ipt) for ipt in node.inputs])\n",
      "/usr/local/lib/python3.7/site-packages/theano/tensor/elemwise.py:635: UserWarning: Warning, Cannot compute test value: input 1 (Elemwise{exp}.0) of Op Elemwise{mul}(InplaceDimShuffle{}.0, Elemwise{exp}.0) missing default value\n",
      "  *[transform(ipt) for ipt in node.inputs])\n",
      "/usr/local/lib/python3.7/site-packages/theano/tensor/elemwise.py:635: UserWarning: Warning, Cannot compute test value: input 0 (InplaceDimShuffle{}.0) of Op Elemwise{mul}(InplaceDimShuffle{}.0, Elemwise{true_div}.0) missing default value\n",
      "  *[transform(ipt) for ipt in node.inputs])\n",
      "/usr/local/lib/python3.7/site-packages/theano/tensor/elemwise.py:635: UserWarning: Warning, Cannot compute test value: input 1 (Elemwise{true_div}.0) of Op Elemwise{mul}(InplaceDimShuffle{}.0, Elemwise{true_div}.0) missing default value\n",
      "  *[transform(ipt) for ipt in node.inputs])\n",
      "/usr/local/lib/python3.7/site-packages/theano/tensor/elemwise.py:635: UserWarning: Warning, Cannot compute test value: input 0 (Elemwise{mul}.0) of Op Elemwise{mul}(Elemwise{mul}.0, Elemwise{mul}.0) missing default value\n",
      "  *[transform(ipt) for ipt in node.inputs])\n",
      "/usr/local/lib/python3.7/site-packages/theano/tensor/elemwise.py:635: UserWarning: Warning, Cannot compute test value: input 1 (Elemwise{mul}.0) of Op Elemwise{mul}(Elemwise{mul}.0, Elemwise{mul}.0) missing default value\n",
      "  *[transform(ipt) for ipt in node.inputs])\n",
      "/usr/local/lib/python3.7/site-packages/theano/tensor/var.py:128: UserWarning: Warning, Cannot compute test value: input 0 (Elemwise{mul}.0) of Op Elemwise{add,no_inplace}(Elemwise{mul}.0, Elemwise{mul}.0) missing default value\n",
      "  return theano.tensor.basic.add(self, other)\n",
      "/usr/local/lib/python3.7/site-packages/theano/tensor/var.py:128: UserWarning: Warning, Cannot compute test value: input 1 (Elemwise{mul}.0) of Op Elemwise{add,no_inplace}(Elemwise{mul}.0, Elemwise{mul}.0) missing default value\n",
      "  return theano.tensor.basic.add(self, other)\n",
      "/usr/local/lib/python3.7/site-packages/theano/tensor/elemwise.py:635: UserWarning: Warning, Cannot compute test value: input 0 (Elemwise{add,no_inplace}.0) of Op Elemwise{true_div}(Elemwise{add,no_inplace}.0, Elemwise{add,no_inplace}.0) missing default value\n",
      "  *[transform(ipt) for ipt in node.inputs])\n",
      "/usr/local/lib/python3.7/site-packages/theano/tensor/elemwise.py:635: UserWarning: Warning, Cannot compute test value: input 1 (Elemwise{add,no_inplace}.0) of Op Elemwise{true_div}(Elemwise{add,no_inplace}.0, Elemwise{add,no_inplace}.0) missing default value\n",
      "  *[transform(ipt) for ipt in node.inputs])\n",
      "/usr/local/lib/python3.7/site-packages/theano/tensor/elemwise.py:635: UserWarning: Warning, Cannot compute test value: input 0 (Elemwise{add,no_inplace}.0) of Op Elemwise{mul}(Elemwise{add,no_inplace}.0, Elemwise{second,no_inplace}.0) missing default value\n",
      "  *[transform(ipt) for ipt in node.inputs])\n",
      "/usr/local/lib/python3.7/site-packages/theano/tensor/elemwise.py:635: UserWarning: Warning, Cannot compute test value: input 1 (Elemwise{second,no_inplace}.0) of Op Elemwise{mul}(Elemwise{add,no_inplace}.0, Elemwise{second,no_inplace}.0) missing default value\n",
      "  *[transform(ipt) for ipt in node.inputs])\n",
      "/usr/local/lib/python3.7/site-packages/theano/tensor/elemwise.py:635: UserWarning: Warning, Cannot compute test value: input 0 (Elemwise{add,no_inplace}.0) of Op Elemwise{mul}(Elemwise{add,no_inplace}.0, Elemwise{add,no_inplace}.0) missing default value\n",
      "  *[transform(ipt) for ipt in node.inputs])\n",
      "/usr/local/lib/python3.7/site-packages/theano/tensor/elemwise.py:635: UserWarning: Warning, Cannot compute test value: input 1 (Elemwise{add,no_inplace}.0) of Op Elemwise{mul}(Elemwise{add,no_inplace}.0, Elemwise{add,no_inplace}.0) missing default value\n",
      "  *[transform(ipt) for ipt in node.inputs])\n",
      "/usr/local/lib/python3.7/site-packages/theano/tensor/var.py:275: UserWarning: Warning, Cannot compute test value: input 0 (Elemwise{exp}.0) of Op Shape(Elemwise{exp}.0) missing default value\n",
      "  shape = property(lambda self: theano.tensor.basic.shape(self))\n",
      "/usr/local/lib/python3.7/site-packages/theano/tensor/var.py:356: UserWarning: Warning, Cannot compute test value: input 0 (Elemwise{add,no_inplace}.0) of Op InplaceDimShuffle{0,x}(Elemwise{add,no_inplace}.0) missing default value\n",
      "  return op(self)\n",
      "/usr/local/lib/python3.7/site-packages/theano/tensor/basic.py:6105: UserWarning: Warning, Cannot compute test value: input 1 (Elemwise{add,no_inplace}.0) of Op dot(InplaceDimShuffle{1,0}.0, Elemwise{add,no_inplace}.0) missing default value\n",
      "  return _dot(a, b)\n",
      "/usr/local/lib/python3.7/site-packages/theano/tensor/elemwise.py:1894: UserWarning: Warning, Cannot compute test value: input 0 (Elemwise{add,no_inplace}.0) of Op InplaceDimShuffle{x}(Elemwise{add,no_inplace}.0) missing default value\n",
      "  gx = Elemwise(scalar.second)(x, ds_op(gz))\n",
      "/usr/local/lib/python3.7/site-packages/theano/tensor/var.py:128: UserWarning: Warning, Cannot compute test value: input 0 (Elemwise{true_div}.0) of Op Elemwise{add,no_inplace}(Elemwise{true_div}.0, Elemwise{true_div}.0) missing default value\n",
      "  return theano.tensor.basic.add(self, other)\n",
      "/usr/local/lib/python3.7/site-packages/theano/tensor/var.py:128: UserWarning: Warning, Cannot compute test value: input 1 (Elemwise{true_div}.0) of Op Elemwise{add,no_inplace}(Elemwise{true_div}.0, Elemwise{true_div}.0) missing default value\n",
      "  return theano.tensor.basic.add(self, other)\n",
      "/usr/local/lib/python3.7/site-packages/theano/tensor/elemwise.py:1894: UserWarning: Warning, Cannot compute test value: input 0 (Elemwise{add,no_inplace}.0) of Op InplaceDimShuffle{0,x}(Elemwise{add,no_inplace}.0) missing default value\n",
      "  gx = Elemwise(scalar.second)(x, ds_op(gz))\n",
      "/usr/local/lib/python3.7/site-packages/theano/tensor/basic.py:5066: UserWarning: Warning, Cannot compute test value: input 0 (Elemwise{add,no_inplace}.0) of Op Reshape{2}(Elemwise{add,no_inplace}.0, Shape.0) missing default value\n",
      "  rval = op(x, newshape)\n",
      "/usr/local/lib/python3.7/site-packages/theano/tensor/basic.py:5066: UserWarning: Warning, Cannot compute test value: input 1 (Shape.0) of Op Reshape{2}(Elemwise{add,no_inplace}.0, Shape.0) missing default value\n",
      "  rval = op(x, newshape)\n",
      "/usr/local/lib/python3.7/site-packages/theano/tensor/elemwise.py:635: UserWarning: Warning, Cannot compute test value: input 0 (IncSubtensor{Inc;int64}.0) of Op Elemwise{mul}(IncSubtensor{Inc;int64}.0, lambda) missing default value\n",
      "  *[transform(ipt) for ipt in node.inputs])\n",
      "/usr/local/lib/python3.7/site-packages/theano/tensor/elemwise.py:635: UserWarning: Warning, Cannot compute test value: input 1 (lambda) of Op Elemwise{mul}(IncSubtensor{Inc;int64}.0, lambda) missing default value\n",
      "  *[transform(ipt) for ipt in node.inputs])\n",
      "/usr/local/lib/python3.7/site-packages/theano/tensor/elemwise.py:635: UserWarning: Warning, Cannot compute test value: input 0 (IncSubtensor{Inc;int64}.0) of Op Elemwise{mul}(IncSubtensor{Inc;int64}.0, InplaceDimShuffle{x}.0) missing default value\n",
      "  *[transform(ipt) for ipt in node.inputs])\n",
      "/usr/local/lib/python3.7/site-packages/theano/tensor/elemwise.py:635: UserWarning: Warning, Cannot compute test value: input 1 (InplaceDimShuffle{x}.0) of Op Elemwise{mul}(IncSubtensor{Inc;int64}.0, InplaceDimShuffle{x}.0) missing default value\n",
      "  *[transform(ipt) for ipt in node.inputs])\n"
     ]
    },
    {
     "name": "stderr",
     "output_type": "stream",
     "text": [
      "/usr/local/lib/python3.7/site-packages/theano/tensor/var.py:128: UserWarning: Warning, Cannot compute test value: input 0 (Elemwise{add,no_inplace}.0) of Op Elemwise{add,no_inplace}(Elemwise{add,no_inplace}.0, Elemwise{mul}.0) missing default value\n",
      "  return theano.tensor.basic.add(self, other)\n",
      "/usr/local/lib/python3.7/site-packages/theano/tensor/var.py:128: UserWarning: Warning, Cannot compute test value: input 1 (Elemwise{mul}.0) of Op Elemwise{add,no_inplace}(Elemwise{add,no_inplace}.0, Elemwise{mul}.0) missing default value\n",
      "  return theano.tensor.basic.add(self, other)\n",
      "/usr/local/lib/python3.7/site-packages/theano/scan_module/scan.py:1077: UserWarning: Warning, Cannot compute test value: input 0 (Subtensor{int64}.0) of Op for{cpu,scan_fn}(Subtensor{int64}.0, Subtensor{:int64:}.0, Subtensor{int64}.0, <TensorType(float64, matrix)>, <TensorType(float64, vector)>, <TensorType(float64, scalar)>, <TensorType(float64, 3D)>, <TensorType(float64, matrix)>, <TensorType(int64, scalar)>, <TensorType(float64, vector)>, <TensorType(float64, scalar)>, Elemwise{add,no_inplace}.0, lambda) missing default value\n",
      "  scan_outs = local_op(*scan_inputs)\n",
      "/usr/local/lib/python3.7/site-packages/theano/scan_module/scan.py:1077: UserWarning: Warning, Cannot compute test value: input 1 (Subtensor{:int64:}.0) of Op for{cpu,scan_fn}(Subtensor{int64}.0, Subtensor{:int64:}.0, Subtensor{int64}.0, <TensorType(float64, matrix)>, <TensorType(float64, vector)>, <TensorType(float64, scalar)>, <TensorType(float64, 3D)>, <TensorType(float64, matrix)>, <TensorType(int64, scalar)>, <TensorType(float64, vector)>, <TensorType(float64, scalar)>, Elemwise{add,no_inplace}.0, lambda) missing default value\n",
      "  scan_outs = local_op(*scan_inputs)\n",
      "/usr/local/lib/python3.7/site-packages/theano/scan_module/scan.py:1077: UserWarning: Warning, Cannot compute test value: input 2 (Subtensor{int64}.0) of Op for{cpu,scan_fn}(Subtensor{int64}.0, Subtensor{:int64:}.0, Subtensor{int64}.0, <TensorType(float64, matrix)>, <TensorType(float64, vector)>, <TensorType(float64, scalar)>, <TensorType(float64, 3D)>, <TensorType(float64, matrix)>, <TensorType(int64, scalar)>, <TensorType(float64, vector)>, <TensorType(float64, scalar)>, Elemwise{add,no_inplace}.0, lambda) missing default value\n",
      "  scan_outs = local_op(*scan_inputs)\n",
      "/usr/local/lib/python3.7/site-packages/theano/scan_module/scan.py:1077: UserWarning: Warning, Cannot compute test value: input 11 (Elemwise{add,no_inplace}.0) of Op for{cpu,scan_fn}(Subtensor{int64}.0, Subtensor{:int64:}.0, Subtensor{int64}.0, <TensorType(float64, matrix)>, <TensorType(float64, vector)>, <TensorType(float64, scalar)>, <TensorType(float64, 3D)>, <TensorType(float64, matrix)>, <TensorType(int64, scalar)>, <TensorType(float64, vector)>, <TensorType(float64, scalar)>, Elemwise{add,no_inplace}.0, lambda) missing default value\n",
      "  scan_outs = local_op(*scan_inputs)\n",
      "/usr/local/lib/python3.7/site-packages/theano/scan_module/scan.py:1077: UserWarning: Warning, Cannot compute test value: input 12 (lambda) of Op for{cpu,scan_fn}(Subtensor{int64}.0, Subtensor{:int64:}.0, Subtensor{int64}.0, <TensorType(float64, matrix)>, <TensorType(float64, vector)>, <TensorType(float64, scalar)>, <TensorType(float64, 3D)>, <TensorType(float64, matrix)>, <TensorType(int64, scalar)>, <TensorType(float64, vector)>, <TensorType(float64, scalar)>, Elemwise{add,no_inplace}.0, lambda) missing default value\n",
      "  scan_outs = local_op(*scan_inputs)\n",
      "ERROR (theano.gof.opt): Optimization failure due to: local_useless_dimshuffle_in_reshape\n",
      "ERROR:theano.gof.opt:Optimization failure due to: local_useless_dimshuffle_in_reshape\n",
      "ERROR (theano.gof.opt): node: Reshape{2}(InplaceDimShuffle{0}.0, <TensorType(int64, vector)>)\n",
      "ERROR:theano.gof.opt:node: Reshape{2}(InplaceDimShuffle{0}.0, <TensorType(int64, vector)>)\n",
      "ERROR (theano.gof.opt): TRACEBACK:\n",
      "ERROR:theano.gof.opt:TRACEBACK:\n",
      "ERROR (theano.gof.opt): Traceback (most recent call last):\n",
      "  File \"/usr/local/lib/python3.7/site-packages/theano/gof/opt.py\", line 2074, in process_node\n",
      "    remove=remove)\n",
      "  File \"/usr/local/lib/python3.7/site-packages/theano/gof/toolbox.py\", line 569, in replace_all_validate_remove\n",
      "    chk = fgraph.replace_all_validate(replacements, reason)\n",
      "  File \"/usr/local/lib/python3.7/site-packages/theano/gof/toolbox.py\", line 518, in replace_all_validate\n",
      "    fgraph.replace(r, new_r, reason=reason, verbose=False)\n",
      "  File \"/usr/local/lib/python3.7/site-packages/theano/gof/fg.py\", line 486, in replace\n",
      "    \". The type of the replacement must be the same.\", old, new)\n",
      "theano.gof.toolbox.BadOptimization: BadOptimization Error \n",
      "  Variable: id 4628704528 Reshape{2}.0\n",
      "  Op Reshape{2}(IncSubtensor{Inc;int64}.0, <TensorType(int64, vector)>)\n",
      "  Value Type: <class 'NoneType'>\n",
      "  Old Value:  None\n",
      "  New Value:  None\n",
      "  Reason:  local_useless_dimshuffle_in_reshape. The type of the replacement must be the same.\n",
      "  Old Graph:\n",
      "  Reshape{2} [id A] <TensorType(float64, col)> ''   \n",
      "   |InplaceDimShuffle{0} [id B] <TensorType(float64, vector)> ''   \n",
      "   | |IncSubtensor{Inc;int64} [id C] <TensorType(float64, vector)> ''   \n",
      "   |   |<TensorType(float64, vector)> [id D] <TensorType(float64, vector)>\n",
      "   |   |TensorConstant{1.0} [id E] <TensorType(float64, scalar)>\n",
      "   |   |ScalarFromTensor [id F] <int64> ''   \n",
      "   |     |<TensorType(int64, scalar)> [id G] <TensorType(int64, scalar)>\n",
      "   |<TensorType(int64, vector)> [id H] <TensorType(int64, vector)>\n",
      "\n",
      "  New Graph:\n",
      "  Reshape{2} [id I] <TensorType(float64, matrix)> ''   \n",
      "   |IncSubtensor{Inc;int64} [id C] <TensorType(float64, vector)> ''   \n",
      "   |<TensorType(int64, vector)> [id H] <TensorType(int64, vector)>\n",
      "\n",
      "\n",
      "Hint: relax the tolerance by setting tensor.cmp_sloppy=1\n",
      "  or even tensor.cmp_sloppy=2 for less-strict comparison\n",
      "\n",
      "\n",
      "ERROR:theano.gof.opt:Traceback (most recent call last):\n",
      "  File \"/usr/local/lib/python3.7/site-packages/theano/gof/opt.py\", line 2074, in process_node\n",
      "    remove=remove)\n",
      "  File \"/usr/local/lib/python3.7/site-packages/theano/gof/toolbox.py\", line 569, in replace_all_validate_remove\n",
      "    chk = fgraph.replace_all_validate(replacements, reason)\n",
      "  File \"/usr/local/lib/python3.7/site-packages/theano/gof/toolbox.py\", line 518, in replace_all_validate\n",
      "    fgraph.replace(r, new_r, reason=reason, verbose=False)\n",
      "  File \"/usr/local/lib/python3.7/site-packages/theano/gof/fg.py\", line 486, in replace\n",
      "    \". The type of the replacement must be the same.\", old, new)\n",
      "theano.gof.toolbox.BadOptimization: BadOptimization Error \n",
      "  Variable: id 4628704528 Reshape{2}.0\n",
      "  Op Reshape{2}(IncSubtensor{Inc;int64}.0, <TensorType(int64, vector)>)\n",
      "  Value Type: <class 'NoneType'>\n",
      "  Old Value:  None\n",
      "  New Value:  None\n",
      "  Reason:  local_useless_dimshuffle_in_reshape. The type of the replacement must be the same.\n",
      "  Old Graph:\n",
      "  Reshape{2} [id A] <TensorType(float64, col)> ''   \n",
      "   |InplaceDimShuffle{0} [id B] <TensorType(float64, vector)> ''   \n",
      "   | |IncSubtensor{Inc;int64} [id C] <TensorType(float64, vector)> ''   \n",
      "   |   |<TensorType(float64, vector)> [id D] <TensorType(float64, vector)>\n",
      "   |   |TensorConstant{1.0} [id E] <TensorType(float64, scalar)>\n",
      "   |   |ScalarFromTensor [id F] <int64> ''   \n",
      "   |     |<TensorType(int64, scalar)> [id G] <TensorType(int64, scalar)>\n",
      "   |<TensorType(int64, vector)> [id H] <TensorType(int64, vector)>\n",
      "\n",
      "  New Graph:\n",
      "  Reshape{2} [id I] <TensorType(float64, matrix)> ''   \n",
      "   |IncSubtensor{Inc;int64} [id C] <TensorType(float64, vector)> ''   \n",
      "   |<TensorType(int64, vector)> [id H] <TensorType(int64, vector)>\n",
      "\n",
      "\n",
      "Hint: relax the tolerance by setting tensor.cmp_sloppy=1\n",
      "  or even tensor.cmp_sloppy=2 for less-strict comparison\n",
      "\n",
      "\n",
      "/usr/local/lib/python3.7/site-packages/theano/tensor/basic.py:3210: UserWarning: Warning, Cannot compute test value: input 0 (<TensorType(float64, vector)>) of Op Sum{acc_dtype=float64}(<TensorType(float64, vector)>) missing default value\n",
      "  out = elemwise.Sum(axis=axis, dtype=dtype, acc_dtype=acc_dtype)(input)\n",
      "/usr/local/lib/python3.7/site-packages/theano/tensor/var.py:356: UserWarning: Warning, Cannot compute test value: input 0 (<TensorType(float64, 3D)>) of Op InplaceDimShuffle{0,1,2}(<TensorType(float64, 3D)>) missing default value\n",
      "  return op(self)\n",
      "/usr/local/lib/python3.7/site-packages/theano/tensor/var.py:356: UserWarning: Warning, Cannot compute test value: input 0 (<TensorType(float64, vector)>) of Op InplaceDimShuffle{0}(<TensorType(float64, vector)>) missing default value\n",
      "  return op(self)\n",
      "/usr/local/lib/python3.7/site-packages/theano/tensor/var.py:275: UserWarning: Warning, Cannot compute test value: input 0 (InplaceDimShuffle{0,1,2}.0) of Op Shape(InplaceDimShuffle{0,1,2}.0) missing default value\n",
      "  shape = property(lambda self: theano.tensor.basic.shape(self))\n",
      "/usr/local/lib/python3.7/site-packages/theano/tensor/var.py:611: UserWarning: Warning, Cannot compute test value: input 0 (Shape.0) of Op Subtensor{int64:int64:}(Shape.0, Constant{0}, Constant{2}) missing default value\n",
      "  lambda entry: isinstance(entry, Variable)))\n",
      "/usr/local/lib/python3.7/site-packages/theano/tensor/var.py:275: UserWarning: Warning, Cannot compute test value: input 0 (InplaceDimShuffle{0}.0) of Op Shape(InplaceDimShuffle{0}.0) missing default value\n",
      "  shape = property(lambda self: theano.tensor.basic.shape(self))\n",
      "/usr/local/lib/python3.7/site-packages/theano/tensor/var.py:611: UserWarning: Warning, Cannot compute test value: input 0 (Shape.0) of Op Subtensor{int64:int64:}(Shape.0, Constant{1}, Constant{1}) missing default value\n",
      "  lambda entry: isinstance(entry, Variable)))\n",
      "/usr/local/lib/python3.7/site-packages/theano/tensor/basic.py:4502: UserWarning: Warning, Cannot compute test value: input 1 (Subtensor{int64:int64:}.0) of Op Join(TensorConstant{0}, Subtensor{int64:int64:}.0, Subtensor{int64:int64:}.0) missing default value\n",
      "  return join_(axis, *tensors_list)\n",
      "/usr/local/lib/python3.7/site-packages/theano/tensor/basic.py:4502: UserWarning: Warning, Cannot compute test value: input 2 (Subtensor{int64:int64:}.0) of Op Join(TensorConstant{0}, Subtensor{int64:int64:}.0, Subtensor{int64:int64:}.0) missing default value\n",
      "  return join_(axis, *tensors_list)\n",
      "/usr/local/lib/python3.7/site-packages/theano/tensor/var.py:611: UserWarning: Warning, Cannot compute test value: input 0 (Shape.0) of Op Subtensor{int64}(Shape.0, Constant{-1}) missing default value\n",
      "  lambda entry: isinstance(entry, Variable)))\n",
      "/usr/local/lib/python3.7/site-packages/theano/tensor/var.py:233: UserWarning: Warning, Cannot compute test value: input 1 (Subtensor{int64}.0) of Op Elemwise{mul,no_inplace}(TensorConstant{1}, Subtensor{int64}.0) missing default value\n",
      "  return theano.tensor.basic.mul(other, self)\n",
      "/usr/local/lib/python3.7/site-packages/theano/tensor/var.py:611: UserWarning: Warning, Cannot compute test value: input 0 (Shape.0) of Op Subtensor{int64}(Shape.0, Constant{0}) missing default value\n",
      "  lambda entry: isinstance(entry, Variable)))\n",
      "/usr/local/lib/python3.7/site-packages/theano/tensor/var.py:611: UserWarning: Warning, Cannot compute test value: input 0 (Shape.0) of Op Subtensor{int64}(Shape.0, Constant{1}) missing default value\n",
      "  lambda entry: isinstance(entry, Variable)))\n",
      "/usr/local/lib/python3.7/site-packages/theano/tensor/var.py:155: UserWarning: Warning, Cannot compute test value: input 0 (Elemwise{mul,no_inplace}.0) of Op Elemwise{mul,no_inplace}(Elemwise{mul,no_inplace}.0, Subtensor{int64}.0) missing default value\n",
      "  return theano.tensor.mul(self, other)\n",
      "/usr/local/lib/python3.7/site-packages/theano/tensor/var.py:155: UserWarning: Warning, Cannot compute test value: input 1 (Subtensor{int64}.0) of Op Elemwise{mul,no_inplace}(Elemwise{mul,no_inplace}.0, Subtensor{int64}.0) missing default value\n",
      "  return theano.tensor.mul(self, other)\n",
      "/usr/local/lib/python3.7/site-packages/theano/tensor/basic.py:4727: UserWarning: Warning, Cannot compute test value: input 0 (Elemwise{mul,no_inplace}.0) of Op MakeVector{dtype='int64'}(Elemwise{mul,no_inplace}.0, Elemwise{mul,no_inplace}.0) missing default value\n",
      "  return theano.tensor.opt.MakeVector(dtype)(*tensors)\n",
      "/usr/local/lib/python3.7/site-packages/theano/tensor/basic.py:4727: UserWarning: Warning, Cannot compute test value: input 1 (Elemwise{mul,no_inplace}.0) of Op MakeVector{dtype='int64'}(Elemwise{mul,no_inplace}.0, Elemwise{mul,no_inplace}.0) missing default value\n",
      "  return theano.tensor.opt.MakeVector(dtype)(*tensors)\n",
      "/usr/local/lib/python3.7/site-packages/theano/tensor/var.py:611: UserWarning: Warning, Cannot compute test value: input 0 (MakeVector{dtype='int64'}.0) of Op Subtensor{int64}(MakeVector{dtype='int64'}.0, Constant{0}) missing default value\n",
      "  lambda entry: isinstance(entry, Variable)))\n",
      "/usr/local/lib/python3.7/site-packages/theano/tensor/var.py:611: UserWarning: Warning, Cannot compute test value: input 0 (MakeVector{dtype='int64'}.0) of Op Subtensor{int64}(MakeVector{dtype='int64'}.0, Constant{1}) missing default value\n",
      "  lambda entry: isinstance(entry, Variable)))\n",
      "/usr/local/lib/python3.7/site-packages/theano/tensor/basic.py:5066: UserWarning: Warning, Cannot compute test value: input 0 (InplaceDimShuffle{0,1,2}.0) of Op Reshape{2}(InplaceDimShuffle{0,1,2}.0, MakeVector{dtype='int64'}.0) missing default value\n",
      "  rval = op(x, newshape)\n",
      "/usr/local/lib/python3.7/site-packages/theano/tensor/basic.py:5066: UserWarning: Warning, Cannot compute test value: input 1 (MakeVector{dtype='int64'}.0) of Op Reshape{2}(InplaceDimShuffle{0,1,2}.0, MakeVector{dtype='int64'}.0) missing default value\n",
      "  rval = op(x, newshape)\n",
      "/usr/local/lib/python3.7/site-packages/theano/tensor/basic.py:4727: UserWarning: Warning, Cannot compute test value: input 0 (Elemwise{mul,no_inplace}.0) of Op MakeVector{dtype='int64'}(Elemwise{mul,no_inplace}.0, Elemwise{Cast{int64}}.0) missing default value\n",
      "  return theano.tensor.opt.MakeVector(dtype)(*tensors)\n",
      "/usr/local/lib/python3.7/site-packages/theano/tensor/basic.py:5066: UserWarning: Warning, Cannot compute test value: input 0 (InplaceDimShuffle{0}.0) of Op Reshape{2}(InplaceDimShuffle{0}.0, MakeVector{dtype='int64'}.0) missing default value\n",
      "  rval = op(x, newshape)\n",
      "/usr/local/lib/python3.7/site-packages/theano/tensor/basic.py:5066: UserWarning: Warning, Cannot compute test value: input 1 (MakeVector{dtype='int64'}.0) of Op Reshape{2}(InplaceDimShuffle{0}.0, MakeVector{dtype='int64'}.0) missing default value\n",
      "  rval = op(x, newshape)\n",
      "/usr/local/lib/python3.7/site-packages/theano/tensor/basic.py:6105: UserWarning: Warning, Cannot compute test value: input 0 (Reshape{2}.0) of Op dot(Reshape{2}.0, Reshape{2}.0) missing default value\n",
      "  return _dot(a, b)\n",
      "/usr/local/lib/python3.7/site-packages/theano/tensor/basic.py:6105: UserWarning: Warning, Cannot compute test value: input 1 (Reshape{2}.0) of Op dot(Reshape{2}.0, Reshape{2}.0) missing default value\n",
      "  return _dot(a, b)\n",
      "/usr/local/lib/python3.7/site-packages/theano/tensor/var.py:611: UserWarning: Warning, Cannot compute test value: input 0 (Join.0) of Op Subtensor{int64}(Join.0, Constant{0}) missing default value\n",
      "  lambda entry: isinstance(entry, Variable)))\n",
      "/usr/local/lib/python3.7/site-packages/theano/tensor/var.py:611: UserWarning: Warning, Cannot compute test value: input 0 (Subtensor{int64:int64:}.0) of Op Subtensor{int64}(Subtensor{int64:int64:}.0, Constant{0}) missing default value\n",
      "  lambda entry: isinstance(entry, Variable)))\n",
      "/usr/local/lib/python3.7/site-packages/theano/tensor/var.py:611: UserWarning: Warning, Cannot compute test value: input 0 (Join.0) of Op Subtensor{int64}(Join.0, Constant{1}) missing default value\n",
      "  lambda entry: isinstance(entry, Variable)))\n",
      "/usr/local/lib/python3.7/site-packages/theano/tensor/var.py:611: UserWarning: Warning, Cannot compute test value: input 0 (Subtensor{int64:int64:}.0) of Op Subtensor{int64}(Subtensor{int64:int64:}.0, Constant{1}) missing default value\n",
      "  lambda entry: isinstance(entry, Variable)))\n",
      "/usr/local/lib/python3.7/site-packages/theano/tensor/basic.py:5066: UserWarning: Warning, Cannot compute test value: input 0 (dot.0) of Op Reshape{2}(dot.0, Join.0) missing default value\n",
      "  rval = op(x, newshape)\n",
      "/usr/local/lib/python3.7/site-packages/theano/tensor/basic.py:5066: UserWarning: Warning, Cannot compute test value: input 1 (Join.0) of Op Reshape{2}(dot.0, Join.0) missing default value\n",
      "  rval = op(x, newshape)\n",
      "/usr/local/lib/python3.7/site-packages/theano/tensor/basic.py:4154: UserWarning: Warning, Cannot compute test value: input 0 (Reshape{2}.0) of Op Rebroadcast{0,0}(Reshape{2}.0) missing default value\n",
      "  for i in xrange(len(broadcastable))])(x)\n",
      "/Users/vijaykeswani/FairMaxEnt/FairMaxEnt Code/FairMaxEnt/counting_oracle.py:47: UserWarning: Warning, Cannot compute test value: input 0 (Reshape{2}.0) of Op Elemwise{exp,no_inplace}(Reshape{2}.0) missing default value\n",
      "  return T.exp(T.dot(Support, Lambda))\n",
      "/usr/local/lib/python3.7/site-packages/theano/tensor/var.py:155: UserWarning: Warning, Cannot compute test value: input 0 (Elemwise{exp,no_inplace}.0) of Op Elemwise{mul,no_inplace}(Elemwise{exp,no_inplace}.0, <TensorType(float64, matrix)>) missing default value\n",
      "  return theano.tensor.mul(self, other)\n",
      "/usr/local/lib/python3.7/site-packages/theano/tensor/var.py:155: UserWarning: Warning, Cannot compute test value: input 1 (<TensorType(float64, matrix)>) of Op Elemwise{mul,no_inplace}(Elemwise{exp,no_inplace}.0, <TensorType(float64, matrix)>) missing default value\n",
      "  return theano.tensor.mul(self, other)\n",
      "/usr/local/lib/python3.7/site-packages/theano/tensor/basic.py:3210: UserWarning: Warning, Cannot compute test value: input 0 (Elemwise{mul,no_inplace}.0) of Op Sum{axis=[1], acc_dtype=float64}(Elemwise{mul,no_inplace}.0) missing default value\n",
      "  out = elemwise.Sum(axis=axis, dtype=dtype, acc_dtype=acc_dtype)(input)\n",
      "/Users/vijaykeswani/FairMaxEnt/FairMaxEnt Code/FairMaxEnt/counting_oracle.py:76: UserWarning: Warning, Cannot compute test value: input 0 (Sum{axis=[1], acc_dtype=float64}.0) of Op Elemwise{log,no_inplace}(Sum{axis=[1], acc_dtype=float64}.0) missing default value\n",
      "  return T.log(T.sum(Qijs, axis=1))\n",
      "/Users/vijaykeswani/FairMaxEnt/FairMaxEnt Code/FairMaxEnt/counting_oracle.py:211: UserWarning: Warning, Cannot compute test value: input 0 (Elemwise{mul,no_inplace}.0) of Op Elemwise{log,no_inplace}(Elemwise{mul,no_inplace}.0) missing default value\n",
      "  LogQijs = T.log(Qijs)\n",
      "/usr/local/lib/python3.7/site-packages/theano/tensor/basic.py:6105: UserWarning: Warning, Cannot compute test value: input 0 (<TensorType(float64, matrix)>) of Op dot(<TensorType(float64, matrix)>, <TensorType(float64, vector)>) missing default value\n",
      "  return _dot(a, b)\n",
      "/usr/local/lib/python3.7/site-packages/theano/tensor/basic.py:6105: UserWarning: Warning, Cannot compute test value: input 1 (<TensorType(float64, vector)>) of Op dot(<TensorType(float64, matrix)>, <TensorType(float64, vector)>) missing default value\n",
      "  return _dot(a, b)\n",
      "/Users/vijaykeswani/FairMaxEnt/FairMaxEnt Code/FairMaxEnt/counting_oracle.py:48: UserWarning: Warning, Cannot compute test value: input 0 (dot.0) of Op Elemwise{exp,no_inplace}(dot.0) missing default value\n",
      "  return Prior*T.exp(T.dot(Support, Lambda))\n",
      "/usr/local/lib/python3.7/site-packages/theano/tensor/var.py:155: UserWarning: Warning, Cannot compute test value: input 0 (<TensorType(float64, vector)>) of Op Elemwise{mul,no_inplace}(<TensorType(float64, vector)>, Elemwise{exp,no_inplace}.0) missing default value\n",
      "  return theano.tensor.mul(self, other)\n",
      "/usr/local/lib/python3.7/site-packages/theano/tensor/var.py:155: UserWarning: Warning, Cannot compute test value: input 1 (Elemwise{exp,no_inplace}.0) of Op Elemwise{mul,no_inplace}(<TensorType(float64, vector)>, Elemwise{exp,no_inplace}.0) missing default value\n",
      "  return theano.tensor.mul(self, other)\n",
      "/usr/local/lib/python3.7/site-packages/theano/tensor/basic.py:3210: UserWarning: Warning, Cannot compute test value: input 0 (Elemwise{mul,no_inplace}.0) of Op Sum{acc_dtype=float64}(Elemwise{mul,no_inplace}.0) missing default value\n",
      "  out = elemwise.Sum(axis=axis, dtype=dtype, acc_dtype=acc_dtype)(input)\n",
      "/usr/local/lib/python3.7/site-packages/theano/tensor/basic.py:3210: UserWarning: Warning, Cannot compute test value: input 0 (Elemwise{log,no_inplace}.0) of Op Sum{acc_dtype=float64}(Elemwise{log,no_inplace}.0) missing default value\n",
      "  out = elemwise.Sum(axis=axis, dtype=dtype, acc_dtype=acc_dtype)(input)\n",
      "/Users/vijaykeswani/FairMaxEnt/FairMaxEnt Code/FairMaxEnt/counting_oracle.py:214: UserWarning: Warning, Cannot compute test value: input 0 (Sum{acc_dtype=float64}.0) of Op Elemwise{exp,no_inplace}(Sum{acc_dtype=float64}.0) missing default value\n",
      "  TotalQMass = T.exp(T.sum(LogQMarginals))\n",
      "/usr/local/lib/python3.7/site-packages/theano/tensor/var.py:197: UserWarning: Warning, Cannot compute test value: input 0 (Sum{acc_dtype=float64}.0) of Op Elemwise{true_div,no_inplace}(Sum{acc_dtype=float64}.0, Sum{acc_dtype=float64}.0) missing default value\n",
      "  return theano.tensor.basic.true_div(self, other)\n",
      "/usr/local/lib/python3.7/site-packages/theano/tensor/var.py:197: UserWarning: Warning, Cannot compute test value: input 1 (Sum{acc_dtype=float64}.0) of Op Elemwise{true_div,no_inplace}(Sum{acc_dtype=float64}.0, Sum{acc_dtype=float64}.0) missing default value\n",
      "  return theano.tensor.basic.true_div(self, other)\n",
      "/usr/local/lib/python3.7/site-packages/theano/tensor/var.py:197: UserWarning: Warning, Cannot compute test value: input 0 (Elemwise{exp,no_inplace}.0) of Op Elemwise{true_div,no_inplace}(Elemwise{exp,no_inplace}.0, <TensorType(int64, scalar)>) missing default value\n",
      "  return theano.tensor.basic.true_div(self, other)\n",
      "/usr/local/lib/python3.7/site-packages/theano/tensor/var.py:230: UserWarning: Warning, Cannot compute test value: input 1 (<TensorType(float64, scalar)>) of Op Elemwise{sub,no_inplace}(TensorConstant{1}, <TensorType(float64, scalar)>) missing default value\n",
      "  return theano.tensor.basic.sub(other, self)\n",
      "/usr/local/lib/python3.7/site-packages/theano/tensor/var.py:155: UserWarning: Warning, Cannot compute test value: input 0 (Elemwise{sub,no_inplace}.0) of Op Elemwise{mul,no_inplace}(Elemwise{sub,no_inplace}.0, Elemwise{true_div,no_inplace}.0) missing default value\n",
      "  return theano.tensor.mul(self, other)\n",
      "/usr/local/lib/python3.7/site-packages/theano/tensor/var.py:155: UserWarning: Warning, Cannot compute test value: input 1 (Elemwise{true_div,no_inplace}.0) of Op Elemwise{mul,no_inplace}(Elemwise{sub,no_inplace}.0, Elemwise{true_div,no_inplace}.0) missing default value\n",
      "  return theano.tensor.mul(self, other)\n",
      "/usr/local/lib/python3.7/site-packages/theano/tensor/var.py:155: UserWarning: Warning, Cannot compute test value: input 0 (<TensorType(float64, scalar)>) of Op Elemwise{mul,no_inplace}(<TensorType(float64, scalar)>, Elemwise{true_div,no_inplace}.0) missing default value\n",
      "  return theano.tensor.mul(self, other)\n",
      "/usr/local/lib/python3.7/site-packages/theano/tensor/var.py:155: UserWarning: Warning, Cannot compute test value: input 1 (Elemwise{true_div,no_inplace}.0) of Op Elemwise{mul,no_inplace}(<TensorType(float64, scalar)>, Elemwise{true_div,no_inplace}.0) missing default value\n",
      "  return theano.tensor.mul(self, other)\n",
      "/usr/local/lib/python3.7/site-packages/theano/tensor/var.py:128: UserWarning: Warning, Cannot compute test value: input 0 (Elemwise{mul,no_inplace}.0) of Op Elemwise{add,no_inplace}(Elemwise{mul,no_inplace}.0, Elemwise{mul,no_inplace}.0) missing default value\n",
      "  return theano.tensor.basic.add(self, other)\n",
      "/usr/local/lib/python3.7/site-packages/theano/tensor/var.py:128: UserWarning: Warning, Cannot compute test value: input 1 (Elemwise{mul,no_inplace}.0) of Op Elemwise{add,no_inplace}(Elemwise{mul,no_inplace}.0, Elemwise{mul,no_inplace}.0) missing default value\n",
      "  return theano.tensor.basic.add(self, other)\n"
     ]
    },
    {
     "name": "stdout",
     "output_type": "stream",
     "text": [
      "Statistical Rate:  0.7592239314851646\n",
      "Gender Ratio:  0.5503875968992248\n"
     ]
    },
    {
     "ename": "NameError",
     "evalue": "name 'rawCorr' is not defined",
     "output_type": "error",
     "traceback": [
      "\u001b[0;31m---------------------------------------------------------------------------\u001b[0m",
      "\u001b[0;31mNameError\u001b[0m                                 Traceback (most recent call last)",
      "\u001b[0;32m<ipython-input-10-bc8294205409>\u001b[0m in \u001b[0;36m<module>\u001b[0;34m()\u001b[0m\n\u001b[1;32m      4\u001b[0m \u001b[0mprint\u001b[0m\u001b[0;34m(\u001b[0m\u001b[0;34m\"Statistical Rate: \"\u001b[0m\u001b[0;34m,\u001b[0m \u001b[0mgetDisparateImpact\u001b[0m\u001b[0;34m(\u001b[0m\u001b[0mdataset\u001b[0m\u001b[0;34m,\u001b[0m \u001b[0msens_attr\u001b[0m\u001b[0;34m)\u001b[0m\u001b[0;34m)\u001b[0m\u001b[0;34m\u001b[0m\u001b[0;34m\u001b[0m\u001b[0m\n\u001b[1;32m      5\u001b[0m \u001b[0mprint\u001b[0m\u001b[0;34m(\u001b[0m\u001b[0;34m\"Gender Ratio: \"\u001b[0m\u001b[0;34m,\u001b[0m \u001b[0mgetGenderRatio\u001b[0m\u001b[0;34m(\u001b[0m\u001b[0mdataset\u001b[0m\u001b[0;34m,\u001b[0m \u001b[0msens_attr\u001b[0m\u001b[0;34m)\u001b[0m\u001b[0;34m)\u001b[0m\u001b[0;34m\u001b[0m\u001b[0;34m\u001b[0m\u001b[0m\n\u001b[0;32m----> 6\u001b[0;31m \u001b[0mprint\u001b[0m\u001b[0;34m(\u001b[0m\u001b[0;34m\"Covariance matrix difference norm: \"\u001b[0m\u001b[0;34m,\u001b[0m \u001b[0mgetCorrUtility\u001b[0m\u001b[0;34m(\u001b[0m\u001b[0mdataset\u001b[0m\u001b[0;34m,\u001b[0m \u001b[0mrawCorr\u001b[0m\u001b[0;34m)\u001b[0m\u001b[0;34m)\u001b[0m\u001b[0;34m\u001b[0m\u001b[0;34m\u001b[0m\u001b[0m\n\u001b[0m",
      "\u001b[0;31mNameError\u001b[0m: name 'rawCorr' is not defined"
     ]
    }
   ],
   "source": [
    "maxEnt = FairMaximumEntropy(simpleDomain, simpleSamples, C, delta, labelIndex, reweight=False, weightedMean=False)\n",
    "dataset = maxEnt.sample(10000)\n",
    "\n",
    "print(\"Statistical Rate: \", getDisparateImpact(dataset, sens_attr))\n",
    "print(\"Representation rate: \", getGenderRatio(dataset, sens_attr))\n",
    "print(\"Covariance matrix difference norm: \", getCorrUtility(dataset, rawCorr))"
   ]
  },
  {
   "cell_type": "markdown",
   "metadata": {},
   "source": [
    "The raw dataset, in this case, is quite biased. Hence using just $q_C^d$ and $\\theta^d$ will not lead to a fair max-entropy distribution"
   ]
  },
  {
   "cell_type": "markdown",
   "metadata": {},
   "source": [
    "#### Next we can set different prior and expected values to debias the distribution"
   ]
  },
  {
   "cell_type": "markdown",
   "metadata": {},
   "source": [
    "The parameter *reweight* can be set true if the re-weighted prior distribution (i.e., $q_C^w$) should be used.\n",
    "The parameter *weightedMean* can be set true if the re-weighted expected value should be used (i.e., $\\theta^w$).\n",
    "Using these, we get a max-entropy distribution that has high statistical and representation rate."
   ]
  },
  {
   "cell_type": "code",
   "execution_count": 13,
   "metadata": {},
   "outputs": [
    {
     "name": "stdout",
     "output_type": "stream",
     "text": [
      "Statistical Rate:  0.987810898133266\n",
      "Representation rate:  0.9657951641438962\n",
      "Covariance matrix difference norm:  1.2665812336846956\n"
     ]
    }
   ],
   "source": [
    "maxEnt = FairMaximumEntropy(simpleDomain, simpleSamples, C, delta, sens_attr,\n",
    "                                reweight=True, reweightXindices=[sens_attr],\n",
    "                                reweightYindices=[len(simpleSamples[0])-1], weightedMean=True)\n",
    "dataset = maxEnt.sample(10000)\n",
    "\n",
    "print(\"Statistical Rate: \", getDisparateImpact(dataset, sens_attr))\n",
    "print(\"Representation rate: \", getGenderRatio(dataset, sens_attr))\n",
    "print(\"Covariance matrix difference norm: \", getCorrUtility(dataset, rawCorr))"
   ]
  },
  {
   "cell_type": "markdown",
   "metadata": {},
   "source": [
    "Next we *reweight* to be true, but *weightedMean* to be false, i.e., using fair prior but the expected value is the mean of the original dataset. With this combination, we get a distribution with high statistical rate but low representation rate."
   ]
  },
  {
   "cell_type": "code",
   "execution_count": 14,
   "metadata": {},
   "outputs": [
    {
     "name": "stdout",
     "output_type": "stream",
     "text": [
      "Statistical Rate:  0.8022132230728838\n",
      "Representation rate:  0.5401201293700909\n",
      "Covariance matrix difference norm:  0.9932932469965341\n"
     ]
    }
   ],
   "source": [
    "labelIndex = len(simpleSamples[0])-1\n",
    "maxEnt = FairMaximumEntropy(simpleDomain, simpleSamples, C, delta, 0,\n",
    "                            reweight=True, reweightXindices=[0],\n",
    "                            reweightYindices=[labelIndex])\n",
    "\n",
    "dataset = maxEnt.sample(10000)\n",
    "print(\"Statistical Rate: \", getDisparateImpact(dataset, sens_attr))\n",
    "print(\"Representation rate: \", getGenderRatio(dataset, sens_attr))\n",
    "print(\"Covariance matrix difference norm: \", getCorrUtility(dataset, rawCorr))"
   ]
  },
  {
   "cell_type": "markdown",
   "metadata": {},
   "source": [
    "To use $\\theta^b$, we need to set *alterMean* to be true. With this combination, we again get a distribution with high statistical rate and high representation rate."
   ]
  },
  {
   "cell_type": "code",
   "execution_count": 22,
   "metadata": {},
   "outputs": [
    {
     "name": "stdout",
     "output_type": "stream",
     "text": [
      "Statistical Rate:  0.9738431737582841\n",
      "Gender Ratio:  0.9688915140775743\n",
      "Covariance matrix difference norm:  2.0037413244353943\n",
      "CPU times: user 42.5 s, sys: 585 ms, total: 43.1 s\n",
      "Wall time: 43.9 s\n"
     ]
    }
   ],
   "source": [
    "%%time\n",
    "# The parameter alterMean can be set true if the balanced expected value should be used\n",
    "\n",
    "\n",
    "maxEnt = FairMaximumEntropy(simpleDomain, simpleSamples, C, delta, 0,\n",
    "                                reweight=True, reweightXindices=[0],\n",
    "                                reweightYindices=[labelIndex], alterMean = True)\n",
    "\n",
    "dataset = maxEnt.sample(10000)\n",
    "print(\"Statistical Rate: \", getDisparateImpact(dataset, sens_attr))\n",
    "print(\"Representation rate: \", getGenderRatio(dataset, sens_attr))\n",
    "print(\"Covariance matrix difference norm: \", getCorrUtility(dataset, rawCorr))"
   ]
  },
  {
   "cell_type": "markdown",
   "metadata": {},
   "source": [
    "#### Experiments in the paper\n",
    "In the paper, we report value after 5-fold cross-validation. For each fold, we do 100 simulations.\n",
    "We also provide results for different values of C. \n",
    "\n",
    "The max-entropy distribution computed below represent all possible choices of prior distribution, expected vector and parameter $C$."
   ]
  },
  {
   "cell_type": "code",
   "execution_count": 15,
   "metadata": {},
   "outputs": [
    {
     "data": {
      "application/vnd.jupyter.widget-view+json": {
       "model_id": "e12f76c3ab0a4b50935a6017a2c09bfa",
       "version_major": 2,
       "version_minor": 0
      },
      "text/plain": [
       "HBox(children=(IntProgress(value=0, max=5), HTML(value='')))"
      ]
     },
     "metadata": {},
     "output_type": "display_data"
    },
    {
     "name": "stdout",
     "output_type": "stream",
     "text": [
      "\n"
     ]
    }
   ],
   "source": [
    "maxEnts = {'maxEnt_unif_wt_unif_mean' : {}, \n",
    "                  'maxEnt_re_wt_unif_mean' : {}, \n",
    "                  'maxEnt_unif_wt_alt_mean' : {}, \n",
    "                  'maxEnt_re_wt_alt_mean' : {}, \n",
    "                  'maxEnt_unif_wt_wt_mean' : {}, \n",
    "                  'maxEnt_re_wt_wt_mean' : {}}\n",
    "\n",
    "for key in maxEnts.keys():\n",
    "    for D in range(11):\n",
    "        C = D/10.0\n",
    "        maxEnts[key][C] = {}\n",
    "        \n",
    "\n",
    "delta = 0\n",
    "labelIndex = len(simpleSamples[0]) - 1\n",
    "\n",
    "for fold in tqdm(range(5)):\n",
    "    \n",
    "    trainData, testData = getTrainAndTestData(simpleSamples, fold)\n",
    "    \n",
    "    for D in [5]:\n",
    "        C = D/10.0\n",
    "        key = \"{fold}_{C}\".format(fold=fold, C=C)\n",
    "        \n",
    "        \n",
    "        maxEnts['maxEnt_unif_wt_unif_mean'][C][fold] = FairMaximumEntropy(simpleDomain, trainData, \n",
    "                                          C, \n",
    "                                          delta, \n",
    "                                          sens_attr)\n",
    "        \n",
    "        \n",
    "        maxEnts['maxEnt_re_wt_unif_mean'][C][fold] = FairMaximumEntropy(simpleDomain, \n",
    "                                          trainData, \n",
    "                                          C, \n",
    "                                          delta, \n",
    "                                          sens_attr,\n",
    "                                          reweight=True, \n",
    "                                          reweightXindices=[sens_attr],\n",
    "                                          reweightYindices=[labelIndex])\n",
    "\n",
    "\n",
    "        maxEnts['maxEnt_unif_wt_alt_mean'][C][fold] = FairMaximumEntropy(simpleDomain, \n",
    "                                          trainData, \n",
    "                                          C, \n",
    "                                          delta, \n",
    "                                          sens_attr,\n",
    "                                          alterMean = True)\n",
    "\n",
    "        \n",
    "        maxEnts['maxEnt_re_wt_alt_mean'][C][fold] = FairMaximumEntropy(simpleDomain, trainData, C, delta, sens_attr,\n",
    "                                reweight=True, reweightXindices=[sens_attr],\n",
    "                                reweightYindices=[labelIndex], alterMean = True)\n",
    "\n",
    "        \n",
    "        maxEnts['maxEnt_unif_wt_wt_mean'][C][fold] = FairMaximumEntropy(simpleDomain, trainData, C, delta, sens_attr,\n",
    "                                weightedMean=True, reweightXindices=[sens_attr],\n",
    "                                reweightYindices=[labelIndex])\n",
    "\n",
    "            \n",
    "        maxEnts['maxEnt_re_wt_wt_mean'][C][fold] = FairMaximumEntropy(simpleDomain, trainData, C, delta, sens_attr,\n",
    "                                reweight=True, reweightXindices=[sens_attr],\n",
    "                                reweightYindices=[labelIndex], weightedMean=True)\n",
    "    \n",
    "        "
   ]
  },
  {
   "cell_type": "code",
   "execution_count": 17,
   "metadata": {},
   "outputs": [
    {
     "data": {
      "application/vnd.jupyter.widget-view+json": {
       "model_id": "de6d45be0cee48c8b0a296335d14acf3",
       "version_major": 2,
       "version_minor": 0
      },
      "text/plain": [
       "HBox(children=(IntProgress(value=0, max=2), HTML(value='')))"
      ]
     },
     "metadata": {},
     "output_type": "display_data"
    },
    {
     "data": {
      "application/vnd.jupyter.widget-view+json": {
       "model_id": "40ab3641112b48c0956eaa942157a5d4",
       "version_major": 2,
       "version_minor": 0
      },
      "text/plain": [
       "HBox(children=(IntProgress(value=0, max=5), HTML(value='')))"
      ]
     },
     "metadata": {},
     "output_type": "display_data"
    },
    {
     "data": {
      "application/vnd.jupyter.widget-view+json": {
       "model_id": "7ffdc75b73a84529ab460830313268f1",
       "version_major": 2,
       "version_minor": 0
      },
      "text/plain": [
       "HBox(children=(IntProgress(value=0, max=10), HTML(value='')))"
      ]
     },
     "metadata": {},
     "output_type": "display_data"
    },
    {
     "data": {
      "application/vnd.jupyter.widget-view+json": {
       "model_id": "1f30fb6013d44e69a17effde5e4f0948",
       "version_major": 2,
       "version_minor": 0
      },
      "text/plain": [
       "HBox(children=(IntProgress(value=0, max=10), HTML(value='')))"
      ]
     },
     "metadata": {},
     "output_type": "display_data"
    },
    {
     "data": {
      "application/vnd.jupyter.widget-view+json": {
       "model_id": "d4cda090759148a4bbf9473a424d5317",
       "version_major": 2,
       "version_minor": 0
      },
      "text/plain": [
       "HBox(children=(IntProgress(value=0, max=10), HTML(value='')))"
      ]
     },
     "metadata": {},
     "output_type": "display_data"
    },
    {
     "data": {
      "application/vnd.jupyter.widget-view+json": {
       "model_id": "3c3bdf52d4074d3c91c21aa49559f641",
       "version_major": 2,
       "version_minor": 0
      },
      "text/plain": [
       "HBox(children=(IntProgress(value=0, max=10), HTML(value='')))"
      ]
     },
     "metadata": {},
     "output_type": "display_data"
    },
    {
     "data": {
      "application/vnd.jupyter.widget-view+json": {
       "model_id": "c01380b5ac5a4ef28535414a504f36d0",
       "version_major": 2,
       "version_minor": 0
      },
      "text/plain": [
       "HBox(children=(IntProgress(value=0, max=10), HTML(value='')))"
      ]
     },
     "metadata": {},
     "output_type": "display_data"
    },
    {
     "name": "stdout",
     "output_type": "stream",
     "text": [
      "\n",
      " key\n",
      "0.9689046495810351 0.017444228364868163\n",
      "0.9850448997287535 0.011514742905800728\n",
      "0.906066545426816 0.045232557392931895\n",
      "1.8696825202409548 0.25896184273613\n",
      "0.6326747622398554 0.012792654968900224\n"
     ]
    },
    {
     "data": {
      "application/vnd.jupyter.widget-view+json": {
       "model_id": "6e68fbecd52f4c9cab298c8f9f6e1480",
       "version_major": 2,
       "version_minor": 0
      },
      "text/plain": [
       "HBox(children=(IntProgress(value=0, max=5), HTML(value='')))"
      ]
     },
     "metadata": {},
     "output_type": "display_data"
    },
    {
     "data": {
      "application/vnd.jupyter.widget-view+json": {
       "model_id": "cff1370577c641289e0537f61287a317",
       "version_major": 2,
       "version_minor": 0
      },
      "text/plain": [
       "HBox(children=(IntProgress(value=0, max=10), HTML(value='')))"
      ]
     },
     "metadata": {},
     "output_type": "display_data"
    },
    {
     "data": {
      "application/vnd.jupyter.widget-view+json": {
       "model_id": "94833741115742c0bd09a9c515543960",
       "version_major": 2,
       "version_minor": 0
      },
      "text/plain": [
       "HBox(children=(IntProgress(value=0, max=10), HTML(value='')))"
      ]
     },
     "metadata": {},
     "output_type": "display_data"
    },
    {
     "data": {
      "application/vnd.jupyter.widget-view+json": {
       "model_id": "a7c5f3a2537e4acbaafdd7c0149a2411",
       "version_major": 2,
       "version_minor": 0
      },
      "text/plain": [
       "HBox(children=(IntProgress(value=0, max=10), HTML(value='')))"
      ]
     },
     "metadata": {},
     "output_type": "display_data"
    },
    {
     "data": {
      "application/vnd.jupyter.widget-view+json": {
       "model_id": "10724493e3594b48b6cd4b939463285f",
       "version_major": 2,
       "version_minor": 0
      },
      "text/plain": [
       "HBox(children=(IntProgress(value=0, max=10), HTML(value='')))"
      ]
     },
     "metadata": {},
     "output_type": "display_data"
    },
    {
     "data": {
      "application/vnd.jupyter.widget-view+json": {
       "model_id": "ff383ae927fb41cb83e7e0a51b3c84ac",
       "version_major": 2,
       "version_minor": 0
      },
      "text/plain": [
       "HBox(children=(IntProgress(value=0, max=10), HTML(value='')))"
      ]
     },
     "metadata": {},
     "output_type": "display_data"
    },
    {
     "name": "stdout",
     "output_type": "stream",
     "text": [
      "\n",
      " key\n",
      "0.9753125299386507 0.02003200266892549\n",
      "0.9854205438220263 0.010574573724882482\n",
      "0.9087360761802672 0.05600147384839257\n",
      "1.9331732477050638 0.2405877667738275\n",
      "0.6349912563083241 0.012899651095349116\n",
      "\n"
     ]
    }
   ],
   "source": [
    "DIs, KLs, GRs, Accs, CDs = [], [], [], [], []\n",
    "for key in tqdm([\"maxEnt_re_wt_wt_mean\",\"maxEnt_re_wt_alt_mean\"]):\n",
    "    diForKey, klForKey, grForKey, accForKey, cdForKey = [], [], [], [], []\n",
    "    for D in [5]:\n",
    "        C = D/10.0\n",
    "        for fold in tqdm(range(5)):\n",
    "            di, kl, gr, acc, cd = [] ,[], [], [], []\n",
    "            for _ in tqdm(range(10)):\n",
    "                dataset = maxEnts[key][C][fold].sample(10000)\n",
    "            \n",
    "                di.append(getDisparateImpact(dataset, sens_attr))\n",
    "                kl.append(getCorrUtility(dataset, rawCorr))\n",
    "                gr.append(getGenderRatio(dataset, sens_attr))\n",
    "                \n",
    "                _, testData = getTrainAndTestData(simpleSamples, fold)    \n",
    "                a1, cd1 = getClfAccAndDI(dataset, testData, sens_attr, clf = DecisionTreeClassifier(random_state=0))\n",
    "                acc.append(a1)\n",
    "                cd.append(cd1)\n",
    "            \n",
    "            diForKey = diForKey + di\n",
    "            klForKey = klForKey + kl\n",
    "            grForKey = grForKey + gr\n",
    "            accForKey = accForKey + acc\n",
    "            cdForKey = cdForKey + cd\n",
    "    DIs.append(diForKey)\n",
    "    KLs.append(klForKey)\n",
    "    GRs.append(grForKey)\n",
    "    Accs.append(accForKey)\n",
    "    CDs.append(cdForKey)\n",
    "            \n",
    "        "
   ]
  },
  {
   "cell_type": "code",
   "execution_count": 64,
   "metadata": {},
   "outputs": [],
   "source": []
  }
 ],
 "metadata": {
  "kernelspec": {
   "display_name": "Python 3",
   "language": "python",
   "name": "python3"
  },
  "language_info": {
   "codemirror_mode": {
    "name": "ipython",
    "version": 3
   },
   "file_extension": ".py",
   "mimetype": "text/x-python",
   "name": "python",
   "nbconvert_exporter": "python",
   "pygments_lexer": "ipython3",
   "version": "3.7.4"
  }
 },
 "nbformat": 4,
 "nbformat_minor": 2
}
